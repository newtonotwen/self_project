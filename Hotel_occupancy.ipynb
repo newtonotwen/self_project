{
  "nbformat": 4,
  "nbformat_minor": 0,
  "metadata": {
    "colab": {
      "name": "final_project.ipynb",
      "provenance": [],
      "collapsed_sections": [],
      "authorship_tag": "ABX9TyM8vyUJ1fNcE/vPepCKlK27"
    },
    "kernelspec": {
      "name": "python3",
      "display_name": "Python 3"
    },
    "language_info": {
      "name": "python"
    }
  },
  "cells": [
    {
      "cell_type": "code",
      "metadata": {
        "id": "TsPhKAcgyvjq"
      },
      "source": [
        "import pandas as pd\n",
        "import numpy as np\n",
        "import matplotlib.pyplot as plt\n",
        "import seaborn as sns"
      ],
      "execution_count": 1,
      "outputs": []
    },
    {
      "cell_type": "code",
      "metadata": {
        "id": "ehYmg7U_zanD"
      },
      "source": [
        "data= pd.read_csv('./hotel.csv')"
      ],
      "execution_count": 2,
      "outputs": []
    },
    {
      "cell_type": "code",
      "metadata": {
        "id": "snSnut70zdg-",
        "colab": {
          "base_uri": "https://localhost:8080/"
        },
        "outputId": "eeb569b0-f657-412f-d527-eabdec03f520"
      },
      "source": [
        "data.shape"
      ],
      "execution_count": 3,
      "outputs": [
        {
          "output_type": "execute_result",
          "data": {
            "text/plain": [
              "(119390, 32)"
            ]
          },
          "metadata": {
            "tags": []
          },
          "execution_count": 3
        }
      ]
    },
    {
      "cell_type": "code",
      "metadata": {
        "id": "5qDAdPKIze4U",
        "colab": {
          "base_uri": "https://localhost:8080/"
        },
        "outputId": "0d9595be-d355-4a21-c0c8-00cd47e2f9ed"
      },
      "source": [
        "data.columns"
      ],
      "execution_count": 4,
      "outputs": [
        {
          "output_type": "execute_result",
          "data": {
            "text/plain": [
              "Index(['hotel', 'is_canceled', 'lead_time', 'arrival_date_year',\n",
              "       'arrival_date_month', 'arrival_date_week_number',\n",
              "       'arrival_date_day_of_month', 'stays_in_weekend_nights',\n",
              "       'stays_in_week_nights', 'adults', 'children', 'babies', 'meal',\n",
              "       'country', 'market_segment', 'distribution_channel',\n",
              "       'is_repeated_guest', 'previous_cancellations',\n",
              "       'previous_bookings_not_canceled', 'reserved_room_type',\n",
              "       'assigned_room_type', 'booking_changes', 'deposit_type', 'agent',\n",
              "       'company', 'days_in_waiting_list', 'customer_type', 'adr',\n",
              "       'required_car_parking_spaces', 'total_of_special_requests',\n",
              "       'reservation_status', 'reservation_status_date'],\n",
              "      dtype='object')"
            ]
          },
          "metadata": {
            "tags": []
          },
          "execution_count": 4
        }
      ]
    },
    {
      "cell_type": "code",
      "metadata": {
        "id": "dOKLIh2azmbb",
        "colab": {
          "base_uri": "https://localhost:8080/"
        },
        "outputId": "a8bfe7c6-4ad6-4aab-8689-7a9428dadb74"
      },
      "source": [
        "data.info()"
      ],
      "execution_count": 5,
      "outputs": [
        {
          "output_type": "stream",
          "text": [
            "<class 'pandas.core.frame.DataFrame'>\n",
            "RangeIndex: 119390 entries, 0 to 119389\n",
            "Data columns (total 32 columns):\n",
            " #   Column                          Non-Null Count   Dtype  \n",
            "---  ------                          --------------   -----  \n",
            " 0   hotel                           119390 non-null  object \n",
            " 1   is_canceled                     119390 non-null  int64  \n",
            " 2   lead_time                       119390 non-null  int64  \n",
            " 3   arrival_date_year               119390 non-null  int64  \n",
            " 4   arrival_date_month              119390 non-null  object \n",
            " 5   arrival_date_week_number        119390 non-null  int64  \n",
            " 6   arrival_date_day_of_month       119390 non-null  int64  \n",
            " 7   stays_in_weekend_nights         119390 non-null  int64  \n",
            " 8   stays_in_week_nights            119390 non-null  int64  \n",
            " 9   adults                          119390 non-null  int64  \n",
            " 10  children                        119386 non-null  float64\n",
            " 11  babies                          119390 non-null  int64  \n",
            " 12  meal                            119390 non-null  object \n",
            " 13  country                         118902 non-null  object \n",
            " 14  market_segment                  119390 non-null  object \n",
            " 15  distribution_channel            119390 non-null  object \n",
            " 16  is_repeated_guest               119390 non-null  int64  \n",
            " 17  previous_cancellations          119390 non-null  int64  \n",
            " 18  previous_bookings_not_canceled  119390 non-null  int64  \n",
            " 19  reserved_room_type              119390 non-null  object \n",
            " 20  assigned_room_type              119390 non-null  object \n",
            " 21  booking_changes                 119390 non-null  int64  \n",
            " 22  deposit_type                    119390 non-null  object \n",
            " 23  agent                           103050 non-null  float64\n",
            " 24  company                         6797 non-null    float64\n",
            " 25  days_in_waiting_list            119390 non-null  int64  \n",
            " 26  customer_type                   119390 non-null  object \n",
            " 27  adr                             119390 non-null  float64\n",
            " 28  required_car_parking_spaces     119390 non-null  int64  \n",
            " 29  total_of_special_requests       119390 non-null  int64  \n",
            " 30  reservation_status              119390 non-null  object \n",
            " 31  reservation_status_date         119390 non-null  object \n",
            "dtypes: float64(4), int64(16), object(12)\n",
            "memory usage: 29.1+ MB\n"
          ],
          "name": "stdout"
        }
      ]
    },
    {
      "cell_type": "code",
      "metadata": {
        "id": "oF6OHqBvz47Z",
        "colab": {
          "base_uri": "https://localhost:8080/",
          "height": 292
        },
        "outputId": "b2512898-45b4-479a-f99b-cba588141acf"
      },
      "source": [
        "data.head()"
      ],
      "execution_count": 6,
      "outputs": [
        {
          "output_type": "execute_result",
          "data": {
            "text/html": [
              "<div>\n",
              "<style scoped>\n",
              "    .dataframe tbody tr th:only-of-type {\n",
              "        vertical-align: middle;\n",
              "    }\n",
              "\n",
              "    .dataframe tbody tr th {\n",
              "        vertical-align: top;\n",
              "    }\n",
              "\n",
              "    .dataframe thead th {\n",
              "        text-align: right;\n",
              "    }\n",
              "</style>\n",
              "<table border=\"1\" class=\"dataframe\">\n",
              "  <thead>\n",
              "    <tr style=\"text-align: right;\">\n",
              "      <th></th>\n",
              "      <th>hotel</th>\n",
              "      <th>is_canceled</th>\n",
              "      <th>lead_time</th>\n",
              "      <th>arrival_date_year</th>\n",
              "      <th>arrival_date_month</th>\n",
              "      <th>arrival_date_week_number</th>\n",
              "      <th>arrival_date_day_of_month</th>\n",
              "      <th>stays_in_weekend_nights</th>\n",
              "      <th>stays_in_week_nights</th>\n",
              "      <th>adults</th>\n",
              "      <th>children</th>\n",
              "      <th>babies</th>\n",
              "      <th>meal</th>\n",
              "      <th>country</th>\n",
              "      <th>market_segment</th>\n",
              "      <th>distribution_channel</th>\n",
              "      <th>is_repeated_guest</th>\n",
              "      <th>previous_cancellations</th>\n",
              "      <th>previous_bookings_not_canceled</th>\n",
              "      <th>reserved_room_type</th>\n",
              "      <th>assigned_room_type</th>\n",
              "      <th>booking_changes</th>\n",
              "      <th>deposit_type</th>\n",
              "      <th>agent</th>\n",
              "      <th>company</th>\n",
              "      <th>days_in_waiting_list</th>\n",
              "      <th>customer_type</th>\n",
              "      <th>adr</th>\n",
              "      <th>required_car_parking_spaces</th>\n",
              "      <th>total_of_special_requests</th>\n",
              "      <th>reservation_status</th>\n",
              "      <th>reservation_status_date</th>\n",
              "    </tr>\n",
              "  </thead>\n",
              "  <tbody>\n",
              "    <tr>\n",
              "      <th>0</th>\n",
              "      <td>Resort Hotel</td>\n",
              "      <td>0</td>\n",
              "      <td>342</td>\n",
              "      <td>2015</td>\n",
              "      <td>July</td>\n",
              "      <td>27</td>\n",
              "      <td>1</td>\n",
              "      <td>0</td>\n",
              "      <td>0</td>\n",
              "      <td>2</td>\n",
              "      <td>0.0</td>\n",
              "      <td>0</td>\n",
              "      <td>BB</td>\n",
              "      <td>PRT</td>\n",
              "      <td>Direct</td>\n",
              "      <td>Direct</td>\n",
              "      <td>0</td>\n",
              "      <td>0</td>\n",
              "      <td>0</td>\n",
              "      <td>C</td>\n",
              "      <td>C</td>\n",
              "      <td>3</td>\n",
              "      <td>No Deposit</td>\n",
              "      <td>NaN</td>\n",
              "      <td>NaN</td>\n",
              "      <td>0</td>\n",
              "      <td>Transient</td>\n",
              "      <td>0.0</td>\n",
              "      <td>0</td>\n",
              "      <td>0</td>\n",
              "      <td>Check-Out</td>\n",
              "      <td>2015-07-01</td>\n",
              "    </tr>\n",
              "    <tr>\n",
              "      <th>1</th>\n",
              "      <td>Resort Hotel</td>\n",
              "      <td>0</td>\n",
              "      <td>737</td>\n",
              "      <td>2015</td>\n",
              "      <td>July</td>\n",
              "      <td>27</td>\n",
              "      <td>1</td>\n",
              "      <td>0</td>\n",
              "      <td>0</td>\n",
              "      <td>2</td>\n",
              "      <td>0.0</td>\n",
              "      <td>0</td>\n",
              "      <td>BB</td>\n",
              "      <td>PRT</td>\n",
              "      <td>Direct</td>\n",
              "      <td>Direct</td>\n",
              "      <td>0</td>\n",
              "      <td>0</td>\n",
              "      <td>0</td>\n",
              "      <td>C</td>\n",
              "      <td>C</td>\n",
              "      <td>4</td>\n",
              "      <td>No Deposit</td>\n",
              "      <td>NaN</td>\n",
              "      <td>NaN</td>\n",
              "      <td>0</td>\n",
              "      <td>Transient</td>\n",
              "      <td>0.0</td>\n",
              "      <td>0</td>\n",
              "      <td>0</td>\n",
              "      <td>Check-Out</td>\n",
              "      <td>2015-07-01</td>\n",
              "    </tr>\n",
              "    <tr>\n",
              "      <th>2</th>\n",
              "      <td>Resort Hotel</td>\n",
              "      <td>0</td>\n",
              "      <td>7</td>\n",
              "      <td>2015</td>\n",
              "      <td>July</td>\n",
              "      <td>27</td>\n",
              "      <td>1</td>\n",
              "      <td>0</td>\n",
              "      <td>1</td>\n",
              "      <td>1</td>\n",
              "      <td>0.0</td>\n",
              "      <td>0</td>\n",
              "      <td>BB</td>\n",
              "      <td>GBR</td>\n",
              "      <td>Direct</td>\n",
              "      <td>Direct</td>\n",
              "      <td>0</td>\n",
              "      <td>0</td>\n",
              "      <td>0</td>\n",
              "      <td>A</td>\n",
              "      <td>C</td>\n",
              "      <td>0</td>\n",
              "      <td>No Deposit</td>\n",
              "      <td>NaN</td>\n",
              "      <td>NaN</td>\n",
              "      <td>0</td>\n",
              "      <td>Transient</td>\n",
              "      <td>75.0</td>\n",
              "      <td>0</td>\n",
              "      <td>0</td>\n",
              "      <td>Check-Out</td>\n",
              "      <td>2015-07-02</td>\n",
              "    </tr>\n",
              "    <tr>\n",
              "      <th>3</th>\n",
              "      <td>Resort Hotel</td>\n",
              "      <td>0</td>\n",
              "      <td>13</td>\n",
              "      <td>2015</td>\n",
              "      <td>July</td>\n",
              "      <td>27</td>\n",
              "      <td>1</td>\n",
              "      <td>0</td>\n",
              "      <td>1</td>\n",
              "      <td>1</td>\n",
              "      <td>0.0</td>\n",
              "      <td>0</td>\n",
              "      <td>BB</td>\n",
              "      <td>GBR</td>\n",
              "      <td>Corporate</td>\n",
              "      <td>Corporate</td>\n",
              "      <td>0</td>\n",
              "      <td>0</td>\n",
              "      <td>0</td>\n",
              "      <td>A</td>\n",
              "      <td>A</td>\n",
              "      <td>0</td>\n",
              "      <td>No Deposit</td>\n",
              "      <td>304.0</td>\n",
              "      <td>NaN</td>\n",
              "      <td>0</td>\n",
              "      <td>Transient</td>\n",
              "      <td>75.0</td>\n",
              "      <td>0</td>\n",
              "      <td>0</td>\n",
              "      <td>Check-Out</td>\n",
              "      <td>2015-07-02</td>\n",
              "    </tr>\n",
              "    <tr>\n",
              "      <th>4</th>\n",
              "      <td>Resort Hotel</td>\n",
              "      <td>0</td>\n",
              "      <td>14</td>\n",
              "      <td>2015</td>\n",
              "      <td>July</td>\n",
              "      <td>27</td>\n",
              "      <td>1</td>\n",
              "      <td>0</td>\n",
              "      <td>2</td>\n",
              "      <td>2</td>\n",
              "      <td>0.0</td>\n",
              "      <td>0</td>\n",
              "      <td>BB</td>\n",
              "      <td>GBR</td>\n",
              "      <td>Online TA</td>\n",
              "      <td>TA/TO</td>\n",
              "      <td>0</td>\n",
              "      <td>0</td>\n",
              "      <td>0</td>\n",
              "      <td>A</td>\n",
              "      <td>A</td>\n",
              "      <td>0</td>\n",
              "      <td>No Deposit</td>\n",
              "      <td>240.0</td>\n",
              "      <td>NaN</td>\n",
              "      <td>0</td>\n",
              "      <td>Transient</td>\n",
              "      <td>98.0</td>\n",
              "      <td>0</td>\n",
              "      <td>1</td>\n",
              "      <td>Check-Out</td>\n",
              "      <td>2015-07-03</td>\n",
              "    </tr>\n",
              "  </tbody>\n",
              "</table>\n",
              "</div>"
            ],
            "text/plain": [
              "          hotel  is_canceled  ...  reservation_status  reservation_status_date\n",
              "0  Resort Hotel            0  ...           Check-Out               2015-07-01\n",
              "1  Resort Hotel            0  ...           Check-Out               2015-07-01\n",
              "2  Resort Hotel            0  ...           Check-Out               2015-07-02\n",
              "3  Resort Hotel            0  ...           Check-Out               2015-07-02\n",
              "4  Resort Hotel            0  ...           Check-Out               2015-07-03\n",
              "\n",
              "[5 rows x 32 columns]"
            ]
          },
          "metadata": {
            "tags": []
          },
          "execution_count": 6
        }
      ]
    },
    {
      "cell_type": "code",
      "metadata": {
        "id": "50XEAAKW1Ks0",
        "colab": {
          "base_uri": "https://localhost:8080/",
          "height": 297
        },
        "outputId": "b7ce8641-3968-4910-b79c-89e96e21f3e4"
      },
      "source": [
        "#lead time : waktu dari Booking sampai dia check in\n",
        "data.describe()"
      ],
      "execution_count": 7,
      "outputs": [
        {
          "output_type": "execute_result",
          "data": {
            "text/html": [
              "<div>\n",
              "<style scoped>\n",
              "    .dataframe tbody tr th:only-of-type {\n",
              "        vertical-align: middle;\n",
              "    }\n",
              "\n",
              "    .dataframe tbody tr th {\n",
              "        vertical-align: top;\n",
              "    }\n",
              "\n",
              "    .dataframe thead th {\n",
              "        text-align: right;\n",
              "    }\n",
              "</style>\n",
              "<table border=\"1\" class=\"dataframe\">\n",
              "  <thead>\n",
              "    <tr style=\"text-align: right;\">\n",
              "      <th></th>\n",
              "      <th>is_canceled</th>\n",
              "      <th>lead_time</th>\n",
              "      <th>arrival_date_year</th>\n",
              "      <th>arrival_date_week_number</th>\n",
              "      <th>arrival_date_day_of_month</th>\n",
              "      <th>stays_in_weekend_nights</th>\n",
              "      <th>stays_in_week_nights</th>\n",
              "      <th>adults</th>\n",
              "      <th>children</th>\n",
              "      <th>babies</th>\n",
              "      <th>is_repeated_guest</th>\n",
              "      <th>previous_cancellations</th>\n",
              "      <th>previous_bookings_not_canceled</th>\n",
              "      <th>booking_changes</th>\n",
              "      <th>agent</th>\n",
              "      <th>company</th>\n",
              "      <th>days_in_waiting_list</th>\n",
              "      <th>adr</th>\n",
              "      <th>required_car_parking_spaces</th>\n",
              "      <th>total_of_special_requests</th>\n",
              "    </tr>\n",
              "  </thead>\n",
              "  <tbody>\n",
              "    <tr>\n",
              "      <th>count</th>\n",
              "      <td>119390.000000</td>\n",
              "      <td>119390.000000</td>\n",
              "      <td>119390.000000</td>\n",
              "      <td>119390.000000</td>\n",
              "      <td>119390.000000</td>\n",
              "      <td>119390.000000</td>\n",
              "      <td>119390.000000</td>\n",
              "      <td>119390.000000</td>\n",
              "      <td>119386.000000</td>\n",
              "      <td>119390.000000</td>\n",
              "      <td>119390.000000</td>\n",
              "      <td>119390.000000</td>\n",
              "      <td>119390.000000</td>\n",
              "      <td>119390.000000</td>\n",
              "      <td>103050.000000</td>\n",
              "      <td>6797.000000</td>\n",
              "      <td>119390.000000</td>\n",
              "      <td>119390.000000</td>\n",
              "      <td>119390.000000</td>\n",
              "      <td>119390.000000</td>\n",
              "    </tr>\n",
              "    <tr>\n",
              "      <th>mean</th>\n",
              "      <td>0.370416</td>\n",
              "      <td>104.011416</td>\n",
              "      <td>2016.156554</td>\n",
              "      <td>27.165173</td>\n",
              "      <td>15.798241</td>\n",
              "      <td>0.927599</td>\n",
              "      <td>2.500302</td>\n",
              "      <td>1.856403</td>\n",
              "      <td>0.103890</td>\n",
              "      <td>0.007949</td>\n",
              "      <td>0.031912</td>\n",
              "      <td>0.087118</td>\n",
              "      <td>0.137097</td>\n",
              "      <td>0.221124</td>\n",
              "      <td>86.693382</td>\n",
              "      <td>189.266735</td>\n",
              "      <td>2.321149</td>\n",
              "      <td>101.831122</td>\n",
              "      <td>0.062518</td>\n",
              "      <td>0.571363</td>\n",
              "    </tr>\n",
              "    <tr>\n",
              "      <th>std</th>\n",
              "      <td>0.482918</td>\n",
              "      <td>106.863097</td>\n",
              "      <td>0.707476</td>\n",
              "      <td>13.605138</td>\n",
              "      <td>8.780829</td>\n",
              "      <td>0.998613</td>\n",
              "      <td>1.908286</td>\n",
              "      <td>0.579261</td>\n",
              "      <td>0.398561</td>\n",
              "      <td>0.097436</td>\n",
              "      <td>0.175767</td>\n",
              "      <td>0.844336</td>\n",
              "      <td>1.497437</td>\n",
              "      <td>0.652306</td>\n",
              "      <td>110.774548</td>\n",
              "      <td>131.655015</td>\n",
              "      <td>17.594721</td>\n",
              "      <td>50.535790</td>\n",
              "      <td>0.245291</td>\n",
              "      <td>0.792798</td>\n",
              "    </tr>\n",
              "    <tr>\n",
              "      <th>min</th>\n",
              "      <td>0.000000</td>\n",
              "      <td>0.000000</td>\n",
              "      <td>2015.000000</td>\n",
              "      <td>1.000000</td>\n",
              "      <td>1.000000</td>\n",
              "      <td>0.000000</td>\n",
              "      <td>0.000000</td>\n",
              "      <td>0.000000</td>\n",
              "      <td>0.000000</td>\n",
              "      <td>0.000000</td>\n",
              "      <td>0.000000</td>\n",
              "      <td>0.000000</td>\n",
              "      <td>0.000000</td>\n",
              "      <td>0.000000</td>\n",
              "      <td>1.000000</td>\n",
              "      <td>6.000000</td>\n",
              "      <td>0.000000</td>\n",
              "      <td>-6.380000</td>\n",
              "      <td>0.000000</td>\n",
              "      <td>0.000000</td>\n",
              "    </tr>\n",
              "    <tr>\n",
              "      <th>25%</th>\n",
              "      <td>0.000000</td>\n",
              "      <td>18.000000</td>\n",
              "      <td>2016.000000</td>\n",
              "      <td>16.000000</td>\n",
              "      <td>8.000000</td>\n",
              "      <td>0.000000</td>\n",
              "      <td>1.000000</td>\n",
              "      <td>2.000000</td>\n",
              "      <td>0.000000</td>\n",
              "      <td>0.000000</td>\n",
              "      <td>0.000000</td>\n",
              "      <td>0.000000</td>\n",
              "      <td>0.000000</td>\n",
              "      <td>0.000000</td>\n",
              "      <td>9.000000</td>\n",
              "      <td>62.000000</td>\n",
              "      <td>0.000000</td>\n",
              "      <td>69.290000</td>\n",
              "      <td>0.000000</td>\n",
              "      <td>0.000000</td>\n",
              "    </tr>\n",
              "    <tr>\n",
              "      <th>50%</th>\n",
              "      <td>0.000000</td>\n",
              "      <td>69.000000</td>\n",
              "      <td>2016.000000</td>\n",
              "      <td>28.000000</td>\n",
              "      <td>16.000000</td>\n",
              "      <td>1.000000</td>\n",
              "      <td>2.000000</td>\n",
              "      <td>2.000000</td>\n",
              "      <td>0.000000</td>\n",
              "      <td>0.000000</td>\n",
              "      <td>0.000000</td>\n",
              "      <td>0.000000</td>\n",
              "      <td>0.000000</td>\n",
              "      <td>0.000000</td>\n",
              "      <td>14.000000</td>\n",
              "      <td>179.000000</td>\n",
              "      <td>0.000000</td>\n",
              "      <td>94.575000</td>\n",
              "      <td>0.000000</td>\n",
              "      <td>0.000000</td>\n",
              "    </tr>\n",
              "    <tr>\n",
              "      <th>75%</th>\n",
              "      <td>1.000000</td>\n",
              "      <td>160.000000</td>\n",
              "      <td>2017.000000</td>\n",
              "      <td>38.000000</td>\n",
              "      <td>23.000000</td>\n",
              "      <td>2.000000</td>\n",
              "      <td>3.000000</td>\n",
              "      <td>2.000000</td>\n",
              "      <td>0.000000</td>\n",
              "      <td>0.000000</td>\n",
              "      <td>0.000000</td>\n",
              "      <td>0.000000</td>\n",
              "      <td>0.000000</td>\n",
              "      <td>0.000000</td>\n",
              "      <td>229.000000</td>\n",
              "      <td>270.000000</td>\n",
              "      <td>0.000000</td>\n",
              "      <td>126.000000</td>\n",
              "      <td>0.000000</td>\n",
              "      <td>1.000000</td>\n",
              "    </tr>\n",
              "    <tr>\n",
              "      <th>max</th>\n",
              "      <td>1.000000</td>\n",
              "      <td>737.000000</td>\n",
              "      <td>2017.000000</td>\n",
              "      <td>53.000000</td>\n",
              "      <td>31.000000</td>\n",
              "      <td>19.000000</td>\n",
              "      <td>50.000000</td>\n",
              "      <td>55.000000</td>\n",
              "      <td>10.000000</td>\n",
              "      <td>10.000000</td>\n",
              "      <td>1.000000</td>\n",
              "      <td>26.000000</td>\n",
              "      <td>72.000000</td>\n",
              "      <td>21.000000</td>\n",
              "      <td>535.000000</td>\n",
              "      <td>543.000000</td>\n",
              "      <td>391.000000</td>\n",
              "      <td>5400.000000</td>\n",
              "      <td>8.000000</td>\n",
              "      <td>5.000000</td>\n",
              "    </tr>\n",
              "  </tbody>\n",
              "</table>\n",
              "</div>"
            ],
            "text/plain": [
              "         is_canceled  ...  total_of_special_requests\n",
              "count  119390.000000  ...              119390.000000\n",
              "mean        0.370416  ...                   0.571363\n",
              "std         0.482918  ...                   0.792798\n",
              "min         0.000000  ...                   0.000000\n",
              "25%         0.000000  ...                   0.000000\n",
              "50%         0.000000  ...                   0.000000\n",
              "75%         1.000000  ...                   1.000000\n",
              "max         1.000000  ...                   5.000000\n",
              "\n",
              "[8 rows x 20 columns]"
            ]
          },
          "metadata": {
            "tags": []
          },
          "execution_count": 7
        }
      ]
    },
    {
      "cell_type": "code",
      "metadata": {
        "id": "Fo9wtmYB2CAW",
        "colab": {
          "base_uri": "https://localhost:8080/",
          "height": 162
        },
        "outputId": "208bdff3-cdb2-450e-cf10-d852cfcd0692"
      },
      "source": [
        "data.describe(include= object)"
      ],
      "execution_count": 8,
      "outputs": [
        {
          "output_type": "execute_result",
          "data": {
            "text/html": [
              "<div>\n",
              "<style scoped>\n",
              "    .dataframe tbody tr th:only-of-type {\n",
              "        vertical-align: middle;\n",
              "    }\n",
              "\n",
              "    .dataframe tbody tr th {\n",
              "        vertical-align: top;\n",
              "    }\n",
              "\n",
              "    .dataframe thead th {\n",
              "        text-align: right;\n",
              "    }\n",
              "</style>\n",
              "<table border=\"1\" class=\"dataframe\">\n",
              "  <thead>\n",
              "    <tr style=\"text-align: right;\">\n",
              "      <th></th>\n",
              "      <th>hotel</th>\n",
              "      <th>arrival_date_month</th>\n",
              "      <th>meal</th>\n",
              "      <th>country</th>\n",
              "      <th>market_segment</th>\n",
              "      <th>distribution_channel</th>\n",
              "      <th>reserved_room_type</th>\n",
              "      <th>assigned_room_type</th>\n",
              "      <th>deposit_type</th>\n",
              "      <th>customer_type</th>\n",
              "      <th>reservation_status</th>\n",
              "      <th>reservation_status_date</th>\n",
              "    </tr>\n",
              "  </thead>\n",
              "  <tbody>\n",
              "    <tr>\n",
              "      <th>count</th>\n",
              "      <td>119390</td>\n",
              "      <td>119390</td>\n",
              "      <td>119390</td>\n",
              "      <td>118902</td>\n",
              "      <td>119390</td>\n",
              "      <td>119390</td>\n",
              "      <td>119390</td>\n",
              "      <td>119390</td>\n",
              "      <td>119390</td>\n",
              "      <td>119390</td>\n",
              "      <td>119390</td>\n",
              "      <td>119390</td>\n",
              "    </tr>\n",
              "    <tr>\n",
              "      <th>unique</th>\n",
              "      <td>2</td>\n",
              "      <td>12</td>\n",
              "      <td>5</td>\n",
              "      <td>177</td>\n",
              "      <td>8</td>\n",
              "      <td>5</td>\n",
              "      <td>10</td>\n",
              "      <td>12</td>\n",
              "      <td>3</td>\n",
              "      <td>4</td>\n",
              "      <td>3</td>\n",
              "      <td>926</td>\n",
              "    </tr>\n",
              "    <tr>\n",
              "      <th>top</th>\n",
              "      <td>City Hotel</td>\n",
              "      <td>August</td>\n",
              "      <td>BB</td>\n",
              "      <td>PRT</td>\n",
              "      <td>Online TA</td>\n",
              "      <td>TA/TO</td>\n",
              "      <td>A</td>\n",
              "      <td>A</td>\n",
              "      <td>No Deposit</td>\n",
              "      <td>Transient</td>\n",
              "      <td>Check-Out</td>\n",
              "      <td>2015-10-21</td>\n",
              "    </tr>\n",
              "    <tr>\n",
              "      <th>freq</th>\n",
              "      <td>79330</td>\n",
              "      <td>13877</td>\n",
              "      <td>92310</td>\n",
              "      <td>48590</td>\n",
              "      <td>56477</td>\n",
              "      <td>97870</td>\n",
              "      <td>85994</td>\n",
              "      <td>74053</td>\n",
              "      <td>104641</td>\n",
              "      <td>89613</td>\n",
              "      <td>75166</td>\n",
              "      <td>1461</td>\n",
              "    </tr>\n",
              "  </tbody>\n",
              "</table>\n",
              "</div>"
            ],
            "text/plain": [
              "             hotel  ... reservation_status_date\n",
              "count       119390  ...                  119390\n",
              "unique           2  ...                     926\n",
              "top     City Hotel  ...              2015-10-21\n",
              "freq         79330  ...                    1461\n",
              "\n",
              "[4 rows x 12 columns]"
            ]
          },
          "metadata": {
            "tags": []
          },
          "execution_count": 8
        }
      ]
    },
    {
      "cell_type": "code",
      "metadata": {
        "id": "7vkgMw_e2P2X"
      },
      "source": [
        "def list_dtypes(df):\n",
        "     categorical_list = []\n",
        "     numerical_list = []\n",
        "     for col in df.columns.tolist():\n",
        "         if df[col].dtype=='object':\n",
        "             categorical_list.append(col)\n",
        "         else:\n",
        "             numerical_list.append(col)\n",
        "            \n",
        "     return categorical_list, numerical_list\n",
        "\n",
        "     print('Categorical Features : ', categorical_list)\n",
        "     print('Numerical Features : ', numerical_list)\n",
        "\n"
      ],
      "execution_count": 9,
      "outputs": []
    },
    {
      "cell_type": "code",
      "metadata": {
        "id": "2RQ59gMB2k9V",
        "colab": {
          "base_uri": "https://localhost:8080/"
        },
        "outputId": "acf10df9-b253-497f-ee2d-48e354da7519"
      },
      "source": [
        "list_dtypes(data)"
      ],
      "execution_count": 10,
      "outputs": [
        {
          "output_type": "execute_result",
          "data": {
            "text/plain": [
              "(['hotel',\n",
              "  'arrival_date_month',\n",
              "  'meal',\n",
              "  'country',\n",
              "  'market_segment',\n",
              "  'distribution_channel',\n",
              "  'reserved_room_type',\n",
              "  'assigned_room_type',\n",
              "  'deposit_type',\n",
              "  'customer_type',\n",
              "  'reservation_status',\n",
              "  'reservation_status_date'],\n",
              " ['is_canceled',\n",
              "  'lead_time',\n",
              "  'arrival_date_year',\n",
              "  'arrival_date_week_number',\n",
              "  'arrival_date_day_of_month',\n",
              "  'stays_in_weekend_nights',\n",
              "  'stays_in_week_nights',\n",
              "  'adults',\n",
              "  'children',\n",
              "  'babies',\n",
              "  'is_repeated_guest',\n",
              "  'previous_cancellations',\n",
              "  'previous_bookings_not_canceled',\n",
              "  'booking_changes',\n",
              "  'agent',\n",
              "  'company',\n",
              "  'days_in_waiting_list',\n",
              "  'adr',\n",
              "  'required_car_parking_spaces',\n",
              "  'total_of_special_requests'])"
            ]
          },
          "metadata": {
            "tags": []
          },
          "execution_count": 10
        }
      ]
    },
    {
      "cell_type": "code",
      "metadata": {
        "id": "IeQKE0gO2nY3"
      },
      "source": [
        "def check_unique(df,list_columns):\n",
        "    entity = []\n",
        "    for col in columns:\n",
        "        unique_values = data[col].unique().tolist()\n",
        "        entity.append(unique_values)\n",
        "    mydict = dict(zip(columns,entity))\n",
        "    result = pd.DataFrame(dict([ (k,pd.Series(v)) for k,v in mydict.items() ]))\n",
        "    result = result.replace(np.nan, '', regex=True)\n",
        "    display(result)"
      ],
      "execution_count": 11,
      "outputs": []
    },
    {
      "cell_type": "code",
      "metadata": {
        "id": "KH5mIHjz3abv",
        "colab": {
          "base_uri": "https://localhost:8080/",
          "height": 443
        },
        "outputId": "f0f43c05-c297-4708-f0f5-ffebc721b5a4"
      },
      "source": [
        "columns= data.columns\n",
        "check_unique(data,columns )"
      ],
      "execution_count": 12,
      "outputs": [
        {
          "output_type": "display_data",
          "data": {
            "text/html": [
              "<div>\n",
              "<style scoped>\n",
              "    .dataframe tbody tr th:only-of-type {\n",
              "        vertical-align: middle;\n",
              "    }\n",
              "\n",
              "    .dataframe tbody tr th {\n",
              "        vertical-align: top;\n",
              "    }\n",
              "\n",
              "    .dataframe thead th {\n",
              "        text-align: right;\n",
              "    }\n",
              "</style>\n",
              "<table border=\"1\" class=\"dataframe\">\n",
              "  <thead>\n",
              "    <tr style=\"text-align: right;\">\n",
              "      <th></th>\n",
              "      <th>hotel</th>\n",
              "      <th>is_canceled</th>\n",
              "      <th>lead_time</th>\n",
              "      <th>arrival_date_year</th>\n",
              "      <th>arrival_date_month</th>\n",
              "      <th>arrival_date_week_number</th>\n",
              "      <th>arrival_date_day_of_month</th>\n",
              "      <th>stays_in_weekend_nights</th>\n",
              "      <th>stays_in_week_nights</th>\n",
              "      <th>adults</th>\n",
              "      <th>children</th>\n",
              "      <th>babies</th>\n",
              "      <th>meal</th>\n",
              "      <th>country</th>\n",
              "      <th>market_segment</th>\n",
              "      <th>distribution_channel</th>\n",
              "      <th>is_repeated_guest</th>\n",
              "      <th>previous_cancellations</th>\n",
              "      <th>previous_bookings_not_canceled</th>\n",
              "      <th>reserved_room_type</th>\n",
              "      <th>assigned_room_type</th>\n",
              "      <th>booking_changes</th>\n",
              "      <th>deposit_type</th>\n",
              "      <th>agent</th>\n",
              "      <th>company</th>\n",
              "      <th>days_in_waiting_list</th>\n",
              "      <th>customer_type</th>\n",
              "      <th>adr</th>\n",
              "      <th>required_car_parking_spaces</th>\n",
              "      <th>total_of_special_requests</th>\n",
              "      <th>reservation_status</th>\n",
              "      <th>reservation_status_date</th>\n",
              "    </tr>\n",
              "  </thead>\n",
              "  <tbody>\n",
              "    <tr>\n",
              "      <th>0</th>\n",
              "      <td>Resort Hotel</td>\n",
              "      <td>0</td>\n",
              "      <td>342</td>\n",
              "      <td>2015</td>\n",
              "      <td>July</td>\n",
              "      <td>27</td>\n",
              "      <td>1</td>\n",
              "      <td>0</td>\n",
              "      <td>0</td>\n",
              "      <td>2</td>\n",
              "      <td>0</td>\n",
              "      <td>0</td>\n",
              "      <td>BB</td>\n",
              "      <td>PRT</td>\n",
              "      <td>Direct</td>\n",
              "      <td>Direct</td>\n",
              "      <td>0</td>\n",
              "      <td>0</td>\n",
              "      <td>0</td>\n",
              "      <td>C</td>\n",
              "      <td>C</td>\n",
              "      <td>3</td>\n",
              "      <td>No Deposit</td>\n",
              "      <td></td>\n",
              "      <td></td>\n",
              "      <td>0</td>\n",
              "      <td>Transient</td>\n",
              "      <td>0.00</td>\n",
              "      <td>0</td>\n",
              "      <td>0</td>\n",
              "      <td>Check-Out</td>\n",
              "      <td>2015-07-01</td>\n",
              "    </tr>\n",
              "    <tr>\n",
              "      <th>1</th>\n",
              "      <td>City Hotel</td>\n",
              "      <td>1</td>\n",
              "      <td>737</td>\n",
              "      <td>2016</td>\n",
              "      <td>August</td>\n",
              "      <td>28</td>\n",
              "      <td>2</td>\n",
              "      <td>1</td>\n",
              "      <td>1</td>\n",
              "      <td>1</td>\n",
              "      <td>1</td>\n",
              "      <td>1</td>\n",
              "      <td>FB</td>\n",
              "      <td>GBR</td>\n",
              "      <td>Corporate</td>\n",
              "      <td>Corporate</td>\n",
              "      <td>1</td>\n",
              "      <td>1</td>\n",
              "      <td>1</td>\n",
              "      <td>A</td>\n",
              "      <td>A</td>\n",
              "      <td>4</td>\n",
              "      <td>Refundable</td>\n",
              "      <td>304</td>\n",
              "      <td>110</td>\n",
              "      <td>50</td>\n",
              "      <td>Contract</td>\n",
              "      <td>75.00</td>\n",
              "      <td>1</td>\n",
              "      <td>1</td>\n",
              "      <td>Canceled</td>\n",
              "      <td>2015-07-02</td>\n",
              "    </tr>\n",
              "    <tr>\n",
              "      <th>2</th>\n",
              "      <td></td>\n",
              "      <td></td>\n",
              "      <td>7</td>\n",
              "      <td>2017</td>\n",
              "      <td>September</td>\n",
              "      <td>29</td>\n",
              "      <td>3</td>\n",
              "      <td>2</td>\n",
              "      <td>2</td>\n",
              "      <td>3</td>\n",
              "      <td>2</td>\n",
              "      <td>2</td>\n",
              "      <td>HB</td>\n",
              "      <td>USA</td>\n",
              "      <td>Online TA</td>\n",
              "      <td>TA/TO</td>\n",
              "      <td></td>\n",
              "      <td>2</td>\n",
              "      <td>2</td>\n",
              "      <td>D</td>\n",
              "      <td>D</td>\n",
              "      <td>0</td>\n",
              "      <td>Non Refund</td>\n",
              "      <td>240</td>\n",
              "      <td>113</td>\n",
              "      <td>47</td>\n",
              "      <td>Transient-Party</td>\n",
              "      <td>98.00</td>\n",
              "      <td>2</td>\n",
              "      <td>3</td>\n",
              "      <td>No-Show</td>\n",
              "      <td>2015-07-03</td>\n",
              "    </tr>\n",
              "    <tr>\n",
              "      <th>3</th>\n",
              "      <td></td>\n",
              "      <td></td>\n",
              "      <td>13</td>\n",
              "      <td></td>\n",
              "      <td>October</td>\n",
              "      <td>30</td>\n",
              "      <td>4</td>\n",
              "      <td>4</td>\n",
              "      <td>3</td>\n",
              "      <td>4</td>\n",
              "      <td>10</td>\n",
              "      <td>10</td>\n",
              "      <td>SC</td>\n",
              "      <td>ESP</td>\n",
              "      <td>Offline TA/TO</td>\n",
              "      <td>Undefined</td>\n",
              "      <td></td>\n",
              "      <td>3</td>\n",
              "      <td>3</td>\n",
              "      <td>E</td>\n",
              "      <td>E</td>\n",
              "      <td>1</td>\n",
              "      <td></td>\n",
              "      <td>303</td>\n",
              "      <td>270</td>\n",
              "      <td>65</td>\n",
              "      <td>Group</td>\n",
              "      <td>107.00</td>\n",
              "      <td>8</td>\n",
              "      <td>2</td>\n",
              "      <td></td>\n",
              "      <td>2015-05-06</td>\n",
              "    </tr>\n",
              "    <tr>\n",
              "      <th>4</th>\n",
              "      <td></td>\n",
              "      <td></td>\n",
              "      <td>14</td>\n",
              "      <td></td>\n",
              "      <td>November</td>\n",
              "      <td>31</td>\n",
              "      <td>5</td>\n",
              "      <td>3</td>\n",
              "      <td>4</td>\n",
              "      <td>40</td>\n",
              "      <td>3</td>\n",
              "      <td>9</td>\n",
              "      <td>Undefined</td>\n",
              "      <td>IRL</td>\n",
              "      <td>Complementary</td>\n",
              "      <td>GDS</td>\n",
              "      <td></td>\n",
              "      <td>26</td>\n",
              "      <td>4</td>\n",
              "      <td>G</td>\n",
              "      <td>G</td>\n",
              "      <td>2</td>\n",
              "      <td></td>\n",
              "      <td>15</td>\n",
              "      <td>178</td>\n",
              "      <td>122</td>\n",
              "      <td></td>\n",
              "      <td>103.00</td>\n",
              "      <td>3</td>\n",
              "      <td>4</td>\n",
              "      <td></td>\n",
              "      <td>2015-04-22</td>\n",
              "    </tr>\n",
              "    <tr>\n",
              "      <th>...</th>\n",
              "      <td>...</td>\n",
              "      <td>...</td>\n",
              "      <td>...</td>\n",
              "      <td>...</td>\n",
              "      <td>...</td>\n",
              "      <td>...</td>\n",
              "      <td>...</td>\n",
              "      <td>...</td>\n",
              "      <td>...</td>\n",
              "      <td>...</td>\n",
              "      <td>...</td>\n",
              "      <td>...</td>\n",
              "      <td>...</td>\n",
              "      <td>...</td>\n",
              "      <td>...</td>\n",
              "      <td>...</td>\n",
              "      <td>...</td>\n",
              "      <td>...</td>\n",
              "      <td>...</td>\n",
              "      <td>...</td>\n",
              "      <td>...</td>\n",
              "      <td>...</td>\n",
              "      <td>...</td>\n",
              "      <td>...</td>\n",
              "      <td>...</td>\n",
              "      <td>...</td>\n",
              "      <td>...</td>\n",
              "      <td>...</td>\n",
              "      <td>...</td>\n",
              "      <td>...</td>\n",
              "      <td>...</td>\n",
              "      <td>...</td>\n",
              "    </tr>\n",
              "    <tr>\n",
              "      <th>8874</th>\n",
              "      <td></td>\n",
              "      <td></td>\n",
              "      <td></td>\n",
              "      <td></td>\n",
              "      <td></td>\n",
              "      <td></td>\n",
              "      <td></td>\n",
              "      <td></td>\n",
              "      <td></td>\n",
              "      <td></td>\n",
              "      <td></td>\n",
              "      <td></td>\n",
              "      <td></td>\n",
              "      <td></td>\n",
              "      <td></td>\n",
              "      <td></td>\n",
              "      <td></td>\n",
              "      <td></td>\n",
              "      <td></td>\n",
              "      <td></td>\n",
              "      <td></td>\n",
              "      <td></td>\n",
              "      <td></td>\n",
              "      <td></td>\n",
              "      <td></td>\n",
              "      <td></td>\n",
              "      <td></td>\n",
              "      <td>134.82</td>\n",
              "      <td></td>\n",
              "      <td></td>\n",
              "      <td></td>\n",
              "      <td></td>\n",
              "    </tr>\n",
              "    <tr>\n",
              "      <th>8875</th>\n",
              "      <td></td>\n",
              "      <td></td>\n",
              "      <td></td>\n",
              "      <td></td>\n",
              "      <td></td>\n",
              "      <td></td>\n",
              "      <td></td>\n",
              "      <td></td>\n",
              "      <td></td>\n",
              "      <td></td>\n",
              "      <td></td>\n",
              "      <td></td>\n",
              "      <td></td>\n",
              "      <td></td>\n",
              "      <td></td>\n",
              "      <td></td>\n",
              "      <td></td>\n",
              "      <td></td>\n",
              "      <td></td>\n",
              "      <td></td>\n",
              "      <td></td>\n",
              "      <td></td>\n",
              "      <td></td>\n",
              "      <td></td>\n",
              "      <td></td>\n",
              "      <td></td>\n",
              "      <td></td>\n",
              "      <td>91.02</td>\n",
              "      <td></td>\n",
              "      <td></td>\n",
              "      <td></td>\n",
              "      <td></td>\n",
              "    </tr>\n",
              "    <tr>\n",
              "      <th>8876</th>\n",
              "      <td></td>\n",
              "      <td></td>\n",
              "      <td></td>\n",
              "      <td></td>\n",
              "      <td></td>\n",
              "      <td></td>\n",
              "      <td></td>\n",
              "      <td></td>\n",
              "      <td></td>\n",
              "      <td></td>\n",
              "      <td></td>\n",
              "      <td></td>\n",
              "      <td></td>\n",
              "      <td></td>\n",
              "      <td></td>\n",
              "      <td></td>\n",
              "      <td></td>\n",
              "      <td></td>\n",
              "      <td></td>\n",
              "      <td></td>\n",
              "      <td></td>\n",
              "      <td></td>\n",
              "      <td></td>\n",
              "      <td></td>\n",
              "      <td></td>\n",
              "      <td></td>\n",
              "      <td></td>\n",
              "      <td>266.75</td>\n",
              "      <td></td>\n",
              "      <td></td>\n",
              "      <td></td>\n",
              "      <td></td>\n",
              "    </tr>\n",
              "    <tr>\n",
              "      <th>8877</th>\n",
              "      <td></td>\n",
              "      <td></td>\n",
              "      <td></td>\n",
              "      <td></td>\n",
              "      <td></td>\n",
              "      <td></td>\n",
              "      <td></td>\n",
              "      <td></td>\n",
              "      <td></td>\n",
              "      <td></td>\n",
              "      <td></td>\n",
              "      <td></td>\n",
              "      <td></td>\n",
              "      <td></td>\n",
              "      <td></td>\n",
              "      <td></td>\n",
              "      <td></td>\n",
              "      <td></td>\n",
              "      <td></td>\n",
              "      <td></td>\n",
              "      <td></td>\n",
              "      <td></td>\n",
              "      <td></td>\n",
              "      <td></td>\n",
              "      <td></td>\n",
              "      <td></td>\n",
              "      <td></td>\n",
              "      <td>209.25</td>\n",
              "      <td></td>\n",
              "      <td></td>\n",
              "      <td></td>\n",
              "      <td></td>\n",
              "    </tr>\n",
              "    <tr>\n",
              "      <th>8878</th>\n",
              "      <td></td>\n",
              "      <td></td>\n",
              "      <td></td>\n",
              "      <td></td>\n",
              "      <td></td>\n",
              "      <td></td>\n",
              "      <td></td>\n",
              "      <td></td>\n",
              "      <td></td>\n",
              "      <td></td>\n",
              "      <td></td>\n",
              "      <td></td>\n",
              "      <td></td>\n",
              "      <td></td>\n",
              "      <td></td>\n",
              "      <td></td>\n",
              "      <td></td>\n",
              "      <td></td>\n",
              "      <td></td>\n",
              "      <td></td>\n",
              "      <td></td>\n",
              "      <td></td>\n",
              "      <td></td>\n",
              "      <td></td>\n",
              "      <td></td>\n",
              "      <td></td>\n",
              "      <td></td>\n",
              "      <td>157.71</td>\n",
              "      <td></td>\n",
              "      <td></td>\n",
              "      <td></td>\n",
              "      <td></td>\n",
              "    </tr>\n",
              "  </tbody>\n",
              "</table>\n",
              "<p>8879 rows × 32 columns</p>\n",
              "</div>"
            ],
            "text/plain": [
              "             hotel is_canceled  ... reservation_status reservation_status_date\n",
              "0     Resort Hotel           0  ...          Check-Out              2015-07-01\n",
              "1       City Hotel           1  ...           Canceled              2015-07-02\n",
              "2                               ...            No-Show              2015-07-03\n",
              "3                               ...                                 2015-05-06\n",
              "4                               ...                                 2015-04-22\n",
              "...            ...         ...  ...                ...                     ...\n",
              "8874                            ...                                           \n",
              "8875                            ...                                           \n",
              "8876                            ...                                           \n",
              "8877                            ...                                           \n",
              "8878                            ...                                           \n",
              "\n",
              "[8879 rows x 32 columns]"
            ]
          },
          "metadata": {
            "tags": []
          }
        }
      ]
    },
    {
      "cell_type": "code",
      "metadata": {
        "id": "IjadzfVS6yu8"
      },
      "source": [
        "def missing_value(df):\n",
        "    total_missing = []\n",
        "    percentage_missing = []\n",
        "    dimensions_missing = []\n",
        "    dtypes_missing = []\n",
        "    \n",
        "    for col in df.columns:\n",
        "        #dtypes\n",
        "        dtypes = df[col].dtypes\n",
        "        dtypes_missing.append(dtypes)\n",
        "        #total data \n",
        "        n_rows = len(df)\n",
        "        #total missing\n",
        "        total = df[col].isnull().sum()\n",
        "        total_missing.append(total)\n",
        "        #percentage of missing\n",
        "        percent = round((total/len(df))*100,2)\n",
        "        percentage_missing.append(percent)\n",
        "        #dimensions\n",
        "        dimensions = len(df[col].unique())\n",
        "        dimensions_missing.append(dimensions)\n",
        "           \n",
        "    missing_value = pd.DataFrame()\n",
        "    missing_value['features'] = df.columns \n",
        "    missing_value['dtypes'] = dtypes_missing \n",
        "    missing_value['total data'] = n_rows\n",
        "    missing_value['total missing'] = total_missing\n",
        "    missing_value['precentage missing (%)'] = percentage_missing\n",
        "    missing_value['dimension'] = dimensions_missing\n",
        "    missing_value.sort_values(by = 'total missing', inplace= True, ascending = False)\n",
        "    missing_value.reset_index(inplace = True, drop = True)\n",
        "    display(missing_value)\n"
      ],
      "execution_count": 13,
      "outputs": []
    },
    {
      "cell_type": "code",
      "metadata": {
        "id": "Pa2zlWVG-axY",
        "colab": {
          "base_uri": "https://localhost:8080/",
          "height": 967
        },
        "outputId": "bdc92efb-31e8-41ca-f653-2ff36c9dfd53"
      },
      "source": [
        "missing_value(data)"
      ],
      "execution_count": 14,
      "outputs": [
        {
          "output_type": "display_data",
          "data": {
            "text/html": [
              "<div>\n",
              "<style scoped>\n",
              "    .dataframe tbody tr th:only-of-type {\n",
              "        vertical-align: middle;\n",
              "    }\n",
              "\n",
              "    .dataframe tbody tr th {\n",
              "        vertical-align: top;\n",
              "    }\n",
              "\n",
              "    .dataframe thead th {\n",
              "        text-align: right;\n",
              "    }\n",
              "</style>\n",
              "<table border=\"1\" class=\"dataframe\">\n",
              "  <thead>\n",
              "    <tr style=\"text-align: right;\">\n",
              "      <th></th>\n",
              "      <th>features</th>\n",
              "      <th>dtypes</th>\n",
              "      <th>total data</th>\n",
              "      <th>total missing</th>\n",
              "      <th>precentage missing (%)</th>\n",
              "      <th>dimension</th>\n",
              "    </tr>\n",
              "  </thead>\n",
              "  <tbody>\n",
              "    <tr>\n",
              "      <th>0</th>\n",
              "      <td>company</td>\n",
              "      <td>float64</td>\n",
              "      <td>119390</td>\n",
              "      <td>112593</td>\n",
              "      <td>94.31</td>\n",
              "      <td>353</td>\n",
              "    </tr>\n",
              "    <tr>\n",
              "      <th>1</th>\n",
              "      <td>agent</td>\n",
              "      <td>float64</td>\n",
              "      <td>119390</td>\n",
              "      <td>16340</td>\n",
              "      <td>13.69</td>\n",
              "      <td>334</td>\n",
              "    </tr>\n",
              "    <tr>\n",
              "      <th>2</th>\n",
              "      <td>country</td>\n",
              "      <td>object</td>\n",
              "      <td>119390</td>\n",
              "      <td>488</td>\n",
              "      <td>0.41</td>\n",
              "      <td>178</td>\n",
              "    </tr>\n",
              "    <tr>\n",
              "      <th>3</th>\n",
              "      <td>children</td>\n",
              "      <td>float64</td>\n",
              "      <td>119390</td>\n",
              "      <td>4</td>\n",
              "      <td>0.00</td>\n",
              "      <td>6</td>\n",
              "    </tr>\n",
              "    <tr>\n",
              "      <th>4</th>\n",
              "      <td>reserved_room_type</td>\n",
              "      <td>object</td>\n",
              "      <td>119390</td>\n",
              "      <td>0</td>\n",
              "      <td>0.00</td>\n",
              "      <td>10</td>\n",
              "    </tr>\n",
              "    <tr>\n",
              "      <th>5</th>\n",
              "      <td>assigned_room_type</td>\n",
              "      <td>object</td>\n",
              "      <td>119390</td>\n",
              "      <td>0</td>\n",
              "      <td>0.00</td>\n",
              "      <td>12</td>\n",
              "    </tr>\n",
              "    <tr>\n",
              "      <th>6</th>\n",
              "      <td>booking_changes</td>\n",
              "      <td>int64</td>\n",
              "      <td>119390</td>\n",
              "      <td>0</td>\n",
              "      <td>0.00</td>\n",
              "      <td>21</td>\n",
              "    </tr>\n",
              "    <tr>\n",
              "      <th>7</th>\n",
              "      <td>deposit_type</td>\n",
              "      <td>object</td>\n",
              "      <td>119390</td>\n",
              "      <td>0</td>\n",
              "      <td>0.00</td>\n",
              "      <td>3</td>\n",
              "    </tr>\n",
              "    <tr>\n",
              "      <th>8</th>\n",
              "      <td>hotel</td>\n",
              "      <td>object</td>\n",
              "      <td>119390</td>\n",
              "      <td>0</td>\n",
              "      <td>0.00</td>\n",
              "      <td>2</td>\n",
              "    </tr>\n",
              "    <tr>\n",
              "      <th>9</th>\n",
              "      <td>previous_cancellations</td>\n",
              "      <td>int64</td>\n",
              "      <td>119390</td>\n",
              "      <td>0</td>\n",
              "      <td>0.00</td>\n",
              "      <td>15</td>\n",
              "    </tr>\n",
              "    <tr>\n",
              "      <th>10</th>\n",
              "      <td>days_in_waiting_list</td>\n",
              "      <td>int64</td>\n",
              "      <td>119390</td>\n",
              "      <td>0</td>\n",
              "      <td>0.00</td>\n",
              "      <td>128</td>\n",
              "    </tr>\n",
              "    <tr>\n",
              "      <th>11</th>\n",
              "      <td>customer_type</td>\n",
              "      <td>object</td>\n",
              "      <td>119390</td>\n",
              "      <td>0</td>\n",
              "      <td>0.00</td>\n",
              "      <td>4</td>\n",
              "    </tr>\n",
              "    <tr>\n",
              "      <th>12</th>\n",
              "      <td>adr</td>\n",
              "      <td>float64</td>\n",
              "      <td>119390</td>\n",
              "      <td>0</td>\n",
              "      <td>0.00</td>\n",
              "      <td>8879</td>\n",
              "    </tr>\n",
              "    <tr>\n",
              "      <th>13</th>\n",
              "      <td>required_car_parking_spaces</td>\n",
              "      <td>int64</td>\n",
              "      <td>119390</td>\n",
              "      <td>0</td>\n",
              "      <td>0.00</td>\n",
              "      <td>5</td>\n",
              "    </tr>\n",
              "    <tr>\n",
              "      <th>14</th>\n",
              "      <td>total_of_special_requests</td>\n",
              "      <td>int64</td>\n",
              "      <td>119390</td>\n",
              "      <td>0</td>\n",
              "      <td>0.00</td>\n",
              "      <td>6</td>\n",
              "    </tr>\n",
              "    <tr>\n",
              "      <th>15</th>\n",
              "      <td>reservation_status</td>\n",
              "      <td>object</td>\n",
              "      <td>119390</td>\n",
              "      <td>0</td>\n",
              "      <td>0.00</td>\n",
              "      <td>3</td>\n",
              "    </tr>\n",
              "    <tr>\n",
              "      <th>16</th>\n",
              "      <td>previous_bookings_not_canceled</td>\n",
              "      <td>int64</td>\n",
              "      <td>119390</td>\n",
              "      <td>0</td>\n",
              "      <td>0.00</td>\n",
              "      <td>73</td>\n",
              "    </tr>\n",
              "    <tr>\n",
              "      <th>17</th>\n",
              "      <td>is_repeated_guest</td>\n",
              "      <td>int64</td>\n",
              "      <td>119390</td>\n",
              "      <td>0</td>\n",
              "      <td>0.00</td>\n",
              "      <td>2</td>\n",
              "    </tr>\n",
              "    <tr>\n",
              "      <th>18</th>\n",
              "      <td>is_canceled</td>\n",
              "      <td>int64</td>\n",
              "      <td>119390</td>\n",
              "      <td>0</td>\n",
              "      <td>0.00</td>\n",
              "      <td>2</td>\n",
              "    </tr>\n",
              "    <tr>\n",
              "      <th>19</th>\n",
              "      <td>distribution_channel</td>\n",
              "      <td>object</td>\n",
              "      <td>119390</td>\n",
              "      <td>0</td>\n",
              "      <td>0.00</td>\n",
              "      <td>5</td>\n",
              "    </tr>\n",
              "    <tr>\n",
              "      <th>20</th>\n",
              "      <td>market_segment</td>\n",
              "      <td>object</td>\n",
              "      <td>119390</td>\n",
              "      <td>0</td>\n",
              "      <td>0.00</td>\n",
              "      <td>8</td>\n",
              "    </tr>\n",
              "    <tr>\n",
              "      <th>21</th>\n",
              "      <td>meal</td>\n",
              "      <td>object</td>\n",
              "      <td>119390</td>\n",
              "      <td>0</td>\n",
              "      <td>0.00</td>\n",
              "      <td>5</td>\n",
              "    </tr>\n",
              "    <tr>\n",
              "      <th>22</th>\n",
              "      <td>babies</td>\n",
              "      <td>int64</td>\n",
              "      <td>119390</td>\n",
              "      <td>0</td>\n",
              "      <td>0.00</td>\n",
              "      <td>5</td>\n",
              "    </tr>\n",
              "    <tr>\n",
              "      <th>23</th>\n",
              "      <td>adults</td>\n",
              "      <td>int64</td>\n",
              "      <td>119390</td>\n",
              "      <td>0</td>\n",
              "      <td>0.00</td>\n",
              "      <td>14</td>\n",
              "    </tr>\n",
              "    <tr>\n",
              "      <th>24</th>\n",
              "      <td>stays_in_week_nights</td>\n",
              "      <td>int64</td>\n",
              "      <td>119390</td>\n",
              "      <td>0</td>\n",
              "      <td>0.00</td>\n",
              "      <td>35</td>\n",
              "    </tr>\n",
              "    <tr>\n",
              "      <th>25</th>\n",
              "      <td>stays_in_weekend_nights</td>\n",
              "      <td>int64</td>\n",
              "      <td>119390</td>\n",
              "      <td>0</td>\n",
              "      <td>0.00</td>\n",
              "      <td>17</td>\n",
              "    </tr>\n",
              "    <tr>\n",
              "      <th>26</th>\n",
              "      <td>arrival_date_day_of_month</td>\n",
              "      <td>int64</td>\n",
              "      <td>119390</td>\n",
              "      <td>0</td>\n",
              "      <td>0.00</td>\n",
              "      <td>31</td>\n",
              "    </tr>\n",
              "    <tr>\n",
              "      <th>27</th>\n",
              "      <td>arrival_date_week_number</td>\n",
              "      <td>int64</td>\n",
              "      <td>119390</td>\n",
              "      <td>0</td>\n",
              "      <td>0.00</td>\n",
              "      <td>53</td>\n",
              "    </tr>\n",
              "    <tr>\n",
              "      <th>28</th>\n",
              "      <td>arrival_date_month</td>\n",
              "      <td>object</td>\n",
              "      <td>119390</td>\n",
              "      <td>0</td>\n",
              "      <td>0.00</td>\n",
              "      <td>12</td>\n",
              "    </tr>\n",
              "    <tr>\n",
              "      <th>29</th>\n",
              "      <td>arrival_date_year</td>\n",
              "      <td>int64</td>\n",
              "      <td>119390</td>\n",
              "      <td>0</td>\n",
              "      <td>0.00</td>\n",
              "      <td>3</td>\n",
              "    </tr>\n",
              "    <tr>\n",
              "      <th>30</th>\n",
              "      <td>lead_time</td>\n",
              "      <td>int64</td>\n",
              "      <td>119390</td>\n",
              "      <td>0</td>\n",
              "      <td>0.00</td>\n",
              "      <td>479</td>\n",
              "    </tr>\n",
              "    <tr>\n",
              "      <th>31</th>\n",
              "      <td>reservation_status_date</td>\n",
              "      <td>object</td>\n",
              "      <td>119390</td>\n",
              "      <td>0</td>\n",
              "      <td>0.00</td>\n",
              "      <td>926</td>\n",
              "    </tr>\n",
              "  </tbody>\n",
              "</table>\n",
              "</div>"
            ],
            "text/plain": [
              "                          features   dtypes  ...  precentage missing (%)  dimension\n",
              "0                          company  float64  ...                   94.31        353\n",
              "1                            agent  float64  ...                   13.69        334\n",
              "2                          country   object  ...                    0.41        178\n",
              "3                         children  float64  ...                    0.00          6\n",
              "4               reserved_room_type   object  ...                    0.00         10\n",
              "5               assigned_room_type   object  ...                    0.00         12\n",
              "6                  booking_changes    int64  ...                    0.00         21\n",
              "7                     deposit_type   object  ...                    0.00          3\n",
              "8                            hotel   object  ...                    0.00          2\n",
              "9           previous_cancellations    int64  ...                    0.00         15\n",
              "10            days_in_waiting_list    int64  ...                    0.00        128\n",
              "11                   customer_type   object  ...                    0.00          4\n",
              "12                             adr  float64  ...                    0.00       8879\n",
              "13     required_car_parking_spaces    int64  ...                    0.00          5\n",
              "14       total_of_special_requests    int64  ...                    0.00          6\n",
              "15              reservation_status   object  ...                    0.00          3\n",
              "16  previous_bookings_not_canceled    int64  ...                    0.00         73\n",
              "17               is_repeated_guest    int64  ...                    0.00          2\n",
              "18                     is_canceled    int64  ...                    0.00          2\n",
              "19            distribution_channel   object  ...                    0.00          5\n",
              "20                  market_segment   object  ...                    0.00          8\n",
              "21                            meal   object  ...                    0.00          5\n",
              "22                          babies    int64  ...                    0.00          5\n",
              "23                          adults    int64  ...                    0.00         14\n",
              "24            stays_in_week_nights    int64  ...                    0.00         35\n",
              "25         stays_in_weekend_nights    int64  ...                    0.00         17\n",
              "26       arrival_date_day_of_month    int64  ...                    0.00         31\n",
              "27        arrival_date_week_number    int64  ...                    0.00         53\n",
              "28              arrival_date_month   object  ...                    0.00         12\n",
              "29               arrival_date_year    int64  ...                    0.00          3\n",
              "30                       lead_time    int64  ...                    0.00        479\n",
              "31         reservation_status_date   object  ...                    0.00        926\n",
              "\n",
              "[32 rows x 6 columns]"
            ]
          },
          "metadata": {
            "tags": []
          }
        }
      ]
    },
    {
      "cell_type": "code",
      "metadata": {
        "id": "GFXUIBkc-PMf"
      },
      "source": [
        "data.fillna(data['agent'].mean(),inplace= True)"
      ],
      "execution_count": 15,
      "outputs": []
    },
    {
      "cell_type": "code",
      "metadata": {
        "id": "WCJqI4FgC3sa"
      },
      "source": [
        "data.fillna(data['country'].mode(),inplace= True)"
      ],
      "execution_count": 16,
      "outputs": []
    },
    {
      "cell_type": "code",
      "metadata": {
        "id": "-oyFH_Mzl561"
      },
      "source": [
        "data.fillna(data['children'].mode(),inplace= True)"
      ],
      "execution_count": 17,
      "outputs": []
    },
    {
      "cell_type": "code",
      "metadata": {
        "id": "lUJVqnQ_5wel"
      },
      "source": [
        "df = data[['hotel', 'country', 'market_segment', 'distribution_channel', 'deposit_type', 'customer_type','adults',\n",
        "          'children', 'babies','is_canceled','is_repeated_guest', 'days_in_waiting_list','total_of_special_requests', \n",
        "          'reserved_room_type','assigned_room_type','arrival_date_year','arrival_date_month']]\n",
        "df2 = data[['hotel', 'country', 'customer_type', 'arrival_date_year', 'arrival_date_month', 'reserved_room_type', 'assigned_room_type']]\n",
        "df3= data[['customer_type', 'distribution_channel','days_in_waiting_list','is_canceled']]"
      ],
      "execution_count": 18,
      "outputs": []
    },
    {
      "cell_type": "code",
      "metadata": {
        "id": "45OkjpnJ6-D0",
        "colab": {
          "base_uri": "https://localhost:8080/",
          "height": 536
        },
        "outputId": "1ddb79c6-16c3-4141-a5e9-ed32f601704e"
      },
      "source": [
        "missing_value(df)"
      ],
      "execution_count": 19,
      "outputs": [
        {
          "output_type": "display_data",
          "data": {
            "text/html": [
              "<div>\n",
              "<style scoped>\n",
              "    .dataframe tbody tr th:only-of-type {\n",
              "        vertical-align: middle;\n",
              "    }\n",
              "\n",
              "    .dataframe tbody tr th {\n",
              "        vertical-align: top;\n",
              "    }\n",
              "\n",
              "    .dataframe thead th {\n",
              "        text-align: right;\n",
              "    }\n",
              "</style>\n",
              "<table border=\"1\" class=\"dataframe\">\n",
              "  <thead>\n",
              "    <tr style=\"text-align: right;\">\n",
              "      <th></th>\n",
              "      <th>features</th>\n",
              "      <th>dtypes</th>\n",
              "      <th>total data</th>\n",
              "      <th>total missing</th>\n",
              "      <th>precentage missing (%)</th>\n",
              "      <th>dimension</th>\n",
              "    </tr>\n",
              "  </thead>\n",
              "  <tbody>\n",
              "    <tr>\n",
              "      <th>0</th>\n",
              "      <td>hotel</td>\n",
              "      <td>object</td>\n",
              "      <td>119390</td>\n",
              "      <td>0</td>\n",
              "      <td>0.0</td>\n",
              "      <td>2</td>\n",
              "    </tr>\n",
              "    <tr>\n",
              "      <th>1</th>\n",
              "      <td>is_canceled</td>\n",
              "      <td>int64</td>\n",
              "      <td>119390</td>\n",
              "      <td>0</td>\n",
              "      <td>0.0</td>\n",
              "      <td>2</td>\n",
              "    </tr>\n",
              "    <tr>\n",
              "      <th>2</th>\n",
              "      <td>arrival_date_year</td>\n",
              "      <td>int64</td>\n",
              "      <td>119390</td>\n",
              "      <td>0</td>\n",
              "      <td>0.0</td>\n",
              "      <td>3</td>\n",
              "    </tr>\n",
              "    <tr>\n",
              "      <th>3</th>\n",
              "      <td>assigned_room_type</td>\n",
              "      <td>object</td>\n",
              "      <td>119390</td>\n",
              "      <td>0</td>\n",
              "      <td>0.0</td>\n",
              "      <td>12</td>\n",
              "    </tr>\n",
              "    <tr>\n",
              "      <th>4</th>\n",
              "      <td>reserved_room_type</td>\n",
              "      <td>object</td>\n",
              "      <td>119390</td>\n",
              "      <td>0</td>\n",
              "      <td>0.0</td>\n",
              "      <td>10</td>\n",
              "    </tr>\n",
              "    <tr>\n",
              "      <th>5</th>\n",
              "      <td>total_of_special_requests</td>\n",
              "      <td>int64</td>\n",
              "      <td>119390</td>\n",
              "      <td>0</td>\n",
              "      <td>0.0</td>\n",
              "      <td>6</td>\n",
              "    </tr>\n",
              "    <tr>\n",
              "      <th>6</th>\n",
              "      <td>days_in_waiting_list</td>\n",
              "      <td>int64</td>\n",
              "      <td>119390</td>\n",
              "      <td>0</td>\n",
              "      <td>0.0</td>\n",
              "      <td>128</td>\n",
              "    </tr>\n",
              "    <tr>\n",
              "      <th>7</th>\n",
              "      <td>is_repeated_guest</td>\n",
              "      <td>int64</td>\n",
              "      <td>119390</td>\n",
              "      <td>0</td>\n",
              "      <td>0.0</td>\n",
              "      <td>2</td>\n",
              "    </tr>\n",
              "    <tr>\n",
              "      <th>8</th>\n",
              "      <td>babies</td>\n",
              "      <td>int64</td>\n",
              "      <td>119390</td>\n",
              "      <td>0</td>\n",
              "      <td>0.0</td>\n",
              "      <td>5</td>\n",
              "    </tr>\n",
              "    <tr>\n",
              "      <th>9</th>\n",
              "      <td>country</td>\n",
              "      <td>object</td>\n",
              "      <td>119390</td>\n",
              "      <td>0</td>\n",
              "      <td>0.0</td>\n",
              "      <td>178</td>\n",
              "    </tr>\n",
              "    <tr>\n",
              "      <th>10</th>\n",
              "      <td>children</td>\n",
              "      <td>float64</td>\n",
              "      <td>119390</td>\n",
              "      <td>0</td>\n",
              "      <td>0.0</td>\n",
              "      <td>6</td>\n",
              "    </tr>\n",
              "    <tr>\n",
              "      <th>11</th>\n",
              "      <td>adults</td>\n",
              "      <td>int64</td>\n",
              "      <td>119390</td>\n",
              "      <td>0</td>\n",
              "      <td>0.0</td>\n",
              "      <td>14</td>\n",
              "    </tr>\n",
              "    <tr>\n",
              "      <th>12</th>\n",
              "      <td>customer_type</td>\n",
              "      <td>object</td>\n",
              "      <td>119390</td>\n",
              "      <td>0</td>\n",
              "      <td>0.0</td>\n",
              "      <td>4</td>\n",
              "    </tr>\n",
              "    <tr>\n",
              "      <th>13</th>\n",
              "      <td>deposit_type</td>\n",
              "      <td>object</td>\n",
              "      <td>119390</td>\n",
              "      <td>0</td>\n",
              "      <td>0.0</td>\n",
              "      <td>3</td>\n",
              "    </tr>\n",
              "    <tr>\n",
              "      <th>14</th>\n",
              "      <td>distribution_channel</td>\n",
              "      <td>object</td>\n",
              "      <td>119390</td>\n",
              "      <td>0</td>\n",
              "      <td>0.0</td>\n",
              "      <td>5</td>\n",
              "    </tr>\n",
              "    <tr>\n",
              "      <th>15</th>\n",
              "      <td>market_segment</td>\n",
              "      <td>object</td>\n",
              "      <td>119390</td>\n",
              "      <td>0</td>\n",
              "      <td>0.0</td>\n",
              "      <td>8</td>\n",
              "    </tr>\n",
              "    <tr>\n",
              "      <th>16</th>\n",
              "      <td>arrival_date_month</td>\n",
              "      <td>object</td>\n",
              "      <td>119390</td>\n",
              "      <td>0</td>\n",
              "      <td>0.0</td>\n",
              "      <td>12</td>\n",
              "    </tr>\n",
              "  </tbody>\n",
              "</table>\n",
              "</div>"
            ],
            "text/plain": [
              "                     features   dtypes  ...  precentage missing (%)  dimension\n",
              "0                       hotel   object  ...                     0.0          2\n",
              "1                 is_canceled    int64  ...                     0.0          2\n",
              "2           arrival_date_year    int64  ...                     0.0          3\n",
              "3          assigned_room_type   object  ...                     0.0         12\n",
              "4          reserved_room_type   object  ...                     0.0         10\n",
              "5   total_of_special_requests    int64  ...                     0.0          6\n",
              "6        days_in_waiting_list    int64  ...                     0.0        128\n",
              "7           is_repeated_guest    int64  ...                     0.0          2\n",
              "8                      babies    int64  ...                     0.0          5\n",
              "9                     country   object  ...                     0.0        178\n",
              "10                   children  float64  ...                     0.0          6\n",
              "11                     adults    int64  ...                     0.0         14\n",
              "12              customer_type   object  ...                     0.0          4\n",
              "13               deposit_type   object  ...                     0.0          3\n",
              "14       distribution_channel   object  ...                     0.0          5\n",
              "15             market_segment   object  ...                     0.0          8\n",
              "16         arrival_date_month   object  ...                     0.0         12\n",
              "\n",
              "[17 rows x 6 columns]"
            ]
          },
          "metadata": {
            "tags": []
          }
        }
      ]
    },
    {
      "cell_type": "code",
      "metadata": {
        "id": "h_hvZhjktAZY"
      },
      "source": [
        "data[\"process\"] = np.where(data[\"lead_time\"] > 491 ,\"Long\", np.where(data[\"lead_time\"] >= 245, \"Medium\", \"Short\"))"
      ],
      "execution_count": 20,
      "outputs": []
    },
    {
      "cell_type": "code",
      "metadata": {
        "id": "8ATrOIf_tDeS",
        "colab": {
          "base_uri": "https://localhost:8080/"
        },
        "outputId": "79fd8714-2bf4-4fab-ea0e-49e99dd863a7"
      },
      "source": [
        "data['process']"
      ],
      "execution_count": 21,
      "outputs": [
        {
          "output_type": "execute_result",
          "data": {
            "text/plain": [
              "0         Medium\n",
              "1           Long\n",
              "2          Short\n",
              "3          Short\n",
              "4          Short\n",
              "           ...  \n",
              "119385     Short\n",
              "119386     Short\n",
              "119387     Short\n",
              "119388     Short\n",
              "119389     Short\n",
              "Name: process, Length: 119390, dtype: object"
            ]
          },
          "metadata": {
            "tags": []
          },
          "execution_count": 21
        }
      ]
    },
    {
      "cell_type": "code",
      "metadata": {
        "id": "QA2ZSDWItJRm",
        "colab": {
          "base_uri": "https://localhost:8080/",
          "height": 248
        },
        "outputId": "3b361214-4e36-4340-af26-a74a82aff1c2"
      },
      "source": [
        "data[['hotel','process', 'customer_type']].groupby(['hotel','process'])['process'].agg(['count'])"
      ],
      "execution_count": 22,
      "outputs": [
        {
          "output_type": "execute_result",
          "data": {
            "text/html": [
              "<div>\n",
              "<style scoped>\n",
              "    .dataframe tbody tr th:only-of-type {\n",
              "        vertical-align: middle;\n",
              "    }\n",
              "\n",
              "    .dataframe tbody tr th {\n",
              "        vertical-align: top;\n",
              "    }\n",
              "\n",
              "    .dataframe thead th {\n",
              "        text-align: right;\n",
              "    }\n",
              "</style>\n",
              "<table border=\"1\" class=\"dataframe\">\n",
              "  <thead>\n",
              "    <tr style=\"text-align: right;\">\n",
              "      <th></th>\n",
              "      <th></th>\n",
              "      <th>count</th>\n",
              "    </tr>\n",
              "    <tr>\n",
              "      <th>hotel</th>\n",
              "      <th>process</th>\n",
              "      <th></th>\n",
              "    </tr>\n",
              "  </thead>\n",
              "  <tbody>\n",
              "    <tr>\n",
              "      <th rowspan=\"3\" valign=\"top\">City Hotel</th>\n",
              "      <th>Long</th>\n",
              "      <td>482</td>\n",
              "    </tr>\n",
              "    <tr>\n",
              "      <th>Medium</th>\n",
              "      <td>10173</td>\n",
              "    </tr>\n",
              "    <tr>\n",
              "      <th>Short</th>\n",
              "      <td>68675</td>\n",
              "    </tr>\n",
              "    <tr>\n",
              "      <th rowspan=\"3\" valign=\"top\">Resort Hotel</th>\n",
              "      <th>Long</th>\n",
              "      <td>26</td>\n",
              "    </tr>\n",
              "    <tr>\n",
              "      <th>Medium</th>\n",
              "      <td>3618</td>\n",
              "    </tr>\n",
              "    <tr>\n",
              "      <th>Short</th>\n",
              "      <td>36416</td>\n",
              "    </tr>\n",
              "  </tbody>\n",
              "</table>\n",
              "</div>"
            ],
            "text/plain": [
              "                      count\n",
              "hotel        process       \n",
              "City Hotel   Long       482\n",
              "             Medium   10173\n",
              "             Short    68675\n",
              "Resort Hotel Long        26\n",
              "             Medium    3618\n",
              "             Short    36416"
            ]
          },
          "metadata": {
            "tags": []
          },
          "execution_count": 22
        }
      ]
    },
    {
      "cell_type": "code",
      "metadata": {
        "id": "rsSqxHldtNZX",
        "colab": {
          "base_uri": "https://localhost:8080/"
        },
        "outputId": "5e678812-a8f4-4e9d-c50b-78ddb9564e00"
      },
      "source": [
        "pd.to_datetime(data[\"reservation_status_date\"], format='%Y-%m-%d')"
      ],
      "execution_count": 23,
      "outputs": [
        {
          "output_type": "execute_result",
          "data": {
            "text/plain": [
              "0        2015-07-01\n",
              "1        2015-07-01\n",
              "2        2015-07-02\n",
              "3        2015-07-02\n",
              "4        2015-07-03\n",
              "            ...    \n",
              "119385   2017-09-06\n",
              "119386   2017-09-07\n",
              "119387   2017-09-07\n",
              "119388   2017-09-07\n",
              "119389   2017-09-07\n",
              "Name: reservation_status_date, Length: 119390, dtype: datetime64[ns]"
            ]
          },
          "metadata": {
            "tags": []
          },
          "execution_count": 23
        }
      ]
    },
    {
      "cell_type": "code",
      "metadata": {
        "colab": {
          "base_uri": "https://localhost:8080/"
        },
        "id": "3_eeK9vDtNdm",
        "outputId": "5b222e7d-bd57-42a7-e084-89bcfc753e57"
      },
      "source": [
        "pd.to_datetime(data[\"reservation_status_date\"], format='%Y-%m-%d', errors = 'coerce')"
      ],
      "execution_count": 24,
      "outputs": [
        {
          "output_type": "execute_result",
          "data": {
            "text/plain": [
              "0        2015-07-01\n",
              "1        2015-07-01\n",
              "2        2015-07-02\n",
              "3        2015-07-02\n",
              "4        2015-07-03\n",
              "            ...    \n",
              "119385   2017-09-06\n",
              "119386   2017-09-07\n",
              "119387   2017-09-07\n",
              "119388   2017-09-07\n",
              "119389   2017-09-07\n",
              "Name: reservation_status_date, Length: 119390, dtype: datetime64[ns]"
            ]
          },
          "metadata": {
            "tags": []
          },
          "execution_count": 24
        }
      ]
    },
    {
      "cell_type": "code",
      "metadata": {
        "id": "gLT58_bQtNvM",
        "colab": {
          "base_uri": "https://localhost:8080/"
        },
        "outputId": "92146ac2-632a-4f6c-9e54-c67234f156a7"
      },
      "source": [
        "pd.to_datetime(data[\"reservation_status_date\"], format='%Y-%m-%d', errors = 'coerce')"
      ],
      "execution_count": 25,
      "outputs": [
        {
          "output_type": "execute_result",
          "data": {
            "text/plain": [
              "0        2015-07-01\n",
              "1        2015-07-01\n",
              "2        2015-07-02\n",
              "3        2015-07-02\n",
              "4        2015-07-03\n",
              "            ...    \n",
              "119385   2017-09-06\n",
              "119386   2017-09-07\n",
              "119387   2017-09-07\n",
              "119388   2017-09-07\n",
              "119389   2017-09-07\n",
              "Name: reservation_status_date, Length: 119390, dtype: datetime64[ns]"
            ]
          },
          "metadata": {
            "tags": []
          },
          "execution_count": 25
        }
      ]
    },
    {
      "cell_type": "code",
      "metadata": {
        "id": "X3KYKKSNtOAz"
      },
      "source": [
        "reservation_2017 = data.loc[data[\"reservation_status_date\"] > \"2016-12-31\"]"
      ],
      "execution_count": 26,
      "outputs": []
    },
    {
      "cell_type": "code",
      "metadata": {
        "id": "DpCtFJfOtOPh",
        "colab": {
          "base_uri": "https://localhost:8080/",
          "height": 133
        },
        "outputId": "ab117b5b-086f-4584-e107-9bd81d4b238a"
      },
      "source": [
        "reservation_2017[['hotel','customer_type']].groupby('hotel').count()"
      ],
      "execution_count": 27,
      "outputs": [
        {
          "output_type": "execute_result",
          "data": {
            "text/html": [
              "<div>\n",
              "<style scoped>\n",
              "    .dataframe tbody tr th:only-of-type {\n",
              "        vertical-align: middle;\n",
              "    }\n",
              "\n",
              "    .dataframe tbody tr th {\n",
              "        vertical-align: top;\n",
              "    }\n",
              "\n",
              "    .dataframe thead th {\n",
              "        text-align: right;\n",
              "    }\n",
              "</style>\n",
              "<table border=\"1\" class=\"dataframe\">\n",
              "  <thead>\n",
              "    <tr style=\"text-align: right;\">\n",
              "      <th></th>\n",
              "      <th>customer_type</th>\n",
              "    </tr>\n",
              "    <tr>\n",
              "      <th>hotel</th>\n",
              "      <th></th>\n",
              "    </tr>\n",
              "  </thead>\n",
              "  <tbody>\n",
              "    <tr>\n",
              "      <th>City Hotel</th>\n",
              "      <td>24115</td>\n",
              "    </tr>\n",
              "    <tr>\n",
              "      <th>Resort Hotel</th>\n",
              "      <td>12368</td>\n",
              "    </tr>\n",
              "  </tbody>\n",
              "</table>\n",
              "</div>"
            ],
            "text/plain": [
              "              customer_type\n",
              "hotel                      \n",
              "City Hotel            24115\n",
              "Resort Hotel          12368"
            ]
          },
          "metadata": {
            "tags": []
          },
          "execution_count": 27
        }
      ]
    },
    {
      "cell_type": "code",
      "metadata": {
        "id": "RfJpEwMQz3Fe"
      },
      "source": [
        "#VISUALISASI DATA KATEGORIKAL\n"
      ],
      "execution_count": 28,
      "outputs": []
    },
    {
      "cell_type": "code",
      "metadata": {
        "colab": {
          "base_uri": "https://localhost:8080/",
          "height": 162
        },
        "id": "DrxaiyPIHWQR",
        "outputId": "66486b91-2803-486d-d740-82eaf82035c0"
      },
      "source": [
        "data_group= df[['hotel','arrival_date_year']].groupby(['arrival_date_year']).count()\n",
        "data_group"
      ],
      "execution_count": 29,
      "outputs": [
        {
          "output_type": "execute_result",
          "data": {
            "text/html": [
              "<div>\n",
              "<style scoped>\n",
              "    .dataframe tbody tr th:only-of-type {\n",
              "        vertical-align: middle;\n",
              "    }\n",
              "\n",
              "    .dataframe tbody tr th {\n",
              "        vertical-align: top;\n",
              "    }\n",
              "\n",
              "    .dataframe thead th {\n",
              "        text-align: right;\n",
              "    }\n",
              "</style>\n",
              "<table border=\"1\" class=\"dataframe\">\n",
              "  <thead>\n",
              "    <tr style=\"text-align: right;\">\n",
              "      <th></th>\n",
              "      <th>hotel</th>\n",
              "    </tr>\n",
              "    <tr>\n",
              "      <th>arrival_date_year</th>\n",
              "      <th></th>\n",
              "    </tr>\n",
              "  </thead>\n",
              "  <tbody>\n",
              "    <tr>\n",
              "      <th>2015</th>\n",
              "      <td>21996</td>\n",
              "    </tr>\n",
              "    <tr>\n",
              "      <th>2016</th>\n",
              "      <td>56707</td>\n",
              "    </tr>\n",
              "    <tr>\n",
              "      <th>2017</th>\n",
              "      <td>40687</td>\n",
              "    </tr>\n",
              "  </tbody>\n",
              "</table>\n",
              "</div>"
            ],
            "text/plain": [
              "                   hotel\n",
              "arrival_date_year       \n",
              "2015               21996\n",
              "2016               56707\n",
              "2017               40687"
            ]
          },
          "metadata": {
            "tags": []
          },
          "execution_count": 29
        }
      ]
    },
    {
      "cell_type": "code",
      "metadata": {
        "id": "5D6OmnTTHDfK"
      },
      "source": [
        "data_group['tahun']= list(data_group.index)\n",
        "data_group.reset_index(drop=True,inplace=True)"
      ],
      "execution_count": 30,
      "outputs": []
    },
    {
      "cell_type": "code",
      "metadata": {
        "colab": {
          "base_uri": "https://localhost:8080/",
          "height": 601
        },
        "id": "jNM1BHnuMeEP",
        "outputId": "106f6f51-d560-48f8-8fef-78cd16eed1e0"
      },
      "source": [
        "x= np.arange(len(data_group['tahun']))\n",
        "y= data_group['hotel']\n",
        "\n",
        "plt.figure(figsize=(10,8))\n",
        "plt.bar(x,y)\n",
        "plt.title('Kunjungan', fontsize= 18)\n",
        "plt.xlabel('Tahun', fontsize= 14)\n",
        "plt.ylabel('Total', fontsize= 18)\n",
        "\n",
        "plt.xticks(ticks=x, labels=data_group['tahun'])\n",
        "\n",
        "plt.tight_layout()\n",
        "plt.show()\n",
        "plt.savefig(\"Total_kunjungan.jpeg\")"
      ],
      "execution_count": 31,
      "outputs": [
        {
          "output_type": "display_data",
          "data": {
            "image/png": "[encoded data removed]",
            "text/plain": [
              "<Figure size 720x576 with 1 Axes>"
            ]
          },
          "metadata": {
            "tags": [],
            "needs_background": "light"
          }
        },
        {
          "output_type": "display_data",
          "data": {
            "text/plain": [
              "<Figure size 432x288 with 0 Axes>"
            ]
          },
          "metadata": {
            "tags": []
          }
        }
      ]
    },
    {
      "cell_type": "code",
      "metadata": {
        "colab": {
          "base_uri": "https://localhost:8080/",
          "height": 162
        },
        "id": "ixTFkHEb2u9G",
        "outputId": "a2a0fa5c-5e8b-427f-dda6-4a4c9ab69ff7"
      },
      "source": [
        "dada= df[['arrival_date_year','hotel','customer_type']]\n",
        "dada_pivot= pd.pivot_table(dada, index='arrival_date_year', columns='hotel', values='customer_type', aggfunc='count')\n",
        "dada_pivot"
      ],
      "execution_count": 32,
      "outputs": [
        {
          "output_type": "execute_result",
          "data": {
            "text/html": [
              "<div>\n",
              "<style scoped>\n",
              "    .dataframe tbody tr th:only-of-type {\n",
              "        vertical-align: middle;\n",
              "    }\n",
              "\n",
              "    .dataframe tbody tr th {\n",
              "        vertical-align: top;\n",
              "    }\n",
              "\n",
              "    .dataframe thead th {\n",
              "        text-align: right;\n",
              "    }\n",
              "</style>\n",
              "<table border=\"1\" class=\"dataframe\">\n",
              "  <thead>\n",
              "    <tr style=\"text-align: right;\">\n",
              "      <th>hotel</th>\n",
              "      <th>City Hotel</th>\n",
              "      <th>Resort Hotel</th>\n",
              "    </tr>\n",
              "    <tr>\n",
              "      <th>arrival_date_year</th>\n",
              "      <th></th>\n",
              "      <th></th>\n",
              "    </tr>\n",
              "  </thead>\n",
              "  <tbody>\n",
              "    <tr>\n",
              "      <th>2015</th>\n",
              "      <td>13682</td>\n",
              "      <td>8314</td>\n",
              "    </tr>\n",
              "    <tr>\n",
              "      <th>2016</th>\n",
              "      <td>38140</td>\n",
              "      <td>18567</td>\n",
              "    </tr>\n",
              "    <tr>\n",
              "      <th>2017</th>\n",
              "      <td>27508</td>\n",
              "      <td>13179</td>\n",
              "    </tr>\n",
              "  </tbody>\n",
              "</table>\n",
              "</div>"
            ],
            "text/plain": [
              "hotel              City Hotel  Resort Hotel\n",
              "arrival_date_year                          \n",
              "2015                    13682          8314\n",
              "2016                    38140         18567\n",
              "2017                    27508         13179"
            ]
          },
          "metadata": {
            "tags": []
          },
          "execution_count": 32
        }
      ]
    },
    {
      "cell_type": "code",
      "metadata": {
        "colab": {
          "base_uri": "https://localhost:8080/"
        },
        "id": "svDFMB4YRA3Z",
        "outputId": "384a3739-c1d2-4457-ed3d-70ca27dfb194"
      },
      "source": [
        "x_indexes = np.arange(len( dada_pivot.index))\n",
        "print(x_indexes)\n",
        "width = 0.25"
      ],
      "execution_count": 33,
      "outputs": [
        {
          "output_type": "stream",
          "text": [
            "[0 1 2]\n"
          ],
          "name": "stdout"
        }
      ]
    },
    {
      "cell_type": "code",
      "metadata": {
        "colab": {
          "base_uri": "https://localhost:8080/",
          "height": 517
        },
        "id": "z6o2i7VUUE0C",
        "outputId": "7fe31157-6117-4961-adb8-7aa514be246a"
      },
      "source": [
        "p= x_indexes\n",
        "q= dada_pivot['City Hotel']\n",
        "r= dada_pivot['Resort Hotel']\n",
        "\n",
        "plt.figure(figsize= (10,8))\n",
        "plt.bar(p- width, q, width = width, color='r', label='City Hotel')\n",
        "plt.bar(p, r, width = width, color='b', label='Resort Hotel')\n",
        "\n",
        "plt.xticks(ticks=x_indexes, labels=dada_pivot.index)\n",
        "\n",
        "plt.title('Occupancy 2015- 2017', fontsize= 16, loc= 'center')\n",
        "plt.legend()\n",
        "plt.show()\n",
        "plt.savefig(\"Okupansi.png\")"
      ],
      "execution_count": 34,
      "outputs": [
        {
          "output_type": "display_data",
          "data": {
            "image/png": "[encoded data removed]",
            "text/plain": [
              "<Figure size 720x576 with 1 Axes>"
            ]
          },
          "metadata": {
            "tags": [],
            "needs_background": "light"
          }
        },
        {
          "output_type": "display_data",
          "data": {
            "text/plain": [
              "<Figure size 432x288 with 0 Axes>"
            ]
          },
          "metadata": {
            "tags": []
          }
        }
      ]
    },
    {
      "cell_type": "code",
      "metadata": {
        "id": "5F6ZUkSk_dLw",
        "colab": {
          "base_uri": "https://localhost:8080/",
          "height": 162
        },
        "outputId": "ba8a6daf-2eda-4286-df1c-58f225599c71"
      },
      "source": [
        "\n",
        "da= df2[['arrival_date_year','hotel','customer_type','arrival_date_month']]\n",
        "da_pivot= pd.pivot_table(da, index=['arrival_date_year'], columns='customer_type', values='arrival_date_month', aggfunc='count')\n",
        "da_pivot\n",
        "# df2.columns"
      ],
      "execution_count": 35,
      "outputs": [
        {
          "output_type": "execute_result",
          "data": {
            "text/html": [
              "<div>\n",
              "<style scoped>\n",
              "    .dataframe tbody tr th:only-of-type {\n",
              "        vertical-align: middle;\n",
              "    }\n",
              "\n",
              "    .dataframe tbody tr th {\n",
              "        vertical-align: top;\n",
              "    }\n",
              "\n",
              "    .dataframe thead th {\n",
              "        text-align: right;\n",
              "    }\n",
              "</style>\n",
              "<table border=\"1\" class=\"dataframe\">\n",
              "  <thead>\n",
              "    <tr style=\"text-align: right;\">\n",
              "      <th>customer_type</th>\n",
              "      <th>Contract</th>\n",
              "      <th>Group</th>\n",
              "      <th>Transient</th>\n",
              "      <th>Transient-Party</th>\n",
              "    </tr>\n",
              "    <tr>\n",
              "      <th>arrival_date_year</th>\n",
              "      <th></th>\n",
              "      <th></th>\n",
              "      <th></th>\n",
              "      <th></th>\n",
              "    </tr>\n",
              "  </thead>\n",
              "  <tbody>\n",
              "    <tr>\n",
              "      <th>2015</th>\n",
              "      <td>2658</td>\n",
              "      <td>192</td>\n",
              "      <td>11431</td>\n",
              "      <td>7715</td>\n",
              "    </tr>\n",
              "    <tr>\n",
              "      <th>2016</th>\n",
              "      <td>756</td>\n",
              "      <td>167</td>\n",
              "      <td>44391</td>\n",
              "      <td>11393</td>\n",
              "    </tr>\n",
              "    <tr>\n",
              "      <th>2017</th>\n",
              "      <td>662</td>\n",
              "      <td>218</td>\n",
              "      <td>33791</td>\n",
              "      <td>6016</td>\n",
              "    </tr>\n",
              "  </tbody>\n",
              "</table>\n",
              "</div>"
            ],
            "text/plain": [
              "customer_type      Contract  Group  Transient  Transient-Party\n",
              "arrival_date_year                                             \n",
              "2015                   2658    192      11431             7715\n",
              "2016                    756    167      44391            11393\n",
              "2017                    662    218      33791             6016"
            ]
          },
          "metadata": {
            "tags": []
          },
          "execution_count": 35
        }
      ]
    },
    {
      "cell_type": "code",
      "metadata": {
        "colab": {
          "base_uri": "https://localhost:8080/",
          "height": 533
        },
        "id": "AnnFXWxWYS97",
        "outputId": "05e55748-18d9-42f3-d6c5-5bb844d9ac8a"
      },
      "source": [
        "x_ind = np.arange(len(da_pivot.index))\n",
        "print(x_ind)\n",
        "width = 0.25\n",
        "\n",
        "p= x_ind\n",
        "q= da_pivot['Contract']\n",
        "r= da_pivot['Group']\n",
        "s= da_pivot['Transient']\n",
        "t= da_pivot['Transient-Party']\n",
        "\n",
        "plt.figure(figsize= (10,8))\n",
        "plt.bar(p+width, q, width = width, color='r', label='Contract')\n",
        "plt.bar(p, r, width = width, color='b', label='Group')\n",
        "plt.bar(p + width + width, s, width = width, color='k', label='Transient')\n",
        "plt.bar(p - width, t, width = width, color='y', label='Transient Party')\n",
        "\n",
        "plt.title('Occupancy based on Customer Type', fontsize= 16, loc=\"center\")\n",
        "plt.xticks(ticks=x_ind + width , labels=da_pivot.index)\n",
        "\n",
        "plt.legend()\n",
        "plt.show()\n",
        "plt.savefig(\"Okupansi_Customer.png\")\n",
        "# plt.bar(da_pivot['Contract'])"
      ],
      "execution_count": 36,
      "outputs": [
        {
          "output_type": "stream",
          "text": [
            "[0 1 2]\n"
          ],
          "name": "stdout"
        },
        {
          "output_type": "display_data",
          "data": {
            "image/png": "[encoded data removed]",
            "text/plain": [
              "<Figure size 720x576 with 1 Axes>"
            ]
          },
          "metadata": {
            "tags": [],
            "needs_background": "light"
          }
        },
        {
          "output_type": "display_data",
          "data": {
            "text/plain": [
              "<Figure size 432x288 with 0 Axes>"
            ]
          },
          "metadata": {
            "tags": []
          }
        }
      ]
    },
    {
      "cell_type": "code",
      "metadata": {
        "colab": {
          "base_uri": "https://localhost:8080/",
          "height": 498
        },
        "id": "uWeSfhsIZijo",
        "outputId": "7d9c22d6-3727-420c-f521-c7d2cf0cfaa4"
      },
      "source": [
        "plt.figure(figsize= (10,8))\n",
        "plt.bar(p + width, s, width = width, color='k', label='Transient')\n",
        "plt.bar(p, t, width = width, color='y', label='Transient Party')\n",
        "\n",
        "plt.xticks(ticks=x_ind + 0.15, labels=da_pivot.index)\n",
        "\n",
        "plt.title(\"Occupancy based\")\n",
        "plt.legend()\n",
        "plt.show()"
      ],
      "execution_count": 37,
      "outputs": [
        {
          "output_type": "display_data",
          "data": {
            "image/png": "[encoded data removed]",
            "text/plain": [
              "<Figure size 720x576 with 1 Axes>"
            ]
          },
          "metadata": {
            "tags": [],
            "needs_background": "light"
          }
        }
      ]
    },
    {
      "cell_type": "code",
      "metadata": {
        "colab": {
          "base_uri": "https://localhost:8080/",
          "height": 265
        },
        "id": "r6BDFCzccjHg",
        "outputId": "25a6fe13-cec8-430f-a050-b1be0e0590a3"
      },
      "source": [
        "plt.bar(p+width, q, width = width, color='r', label='Contract')\n",
        "plt.bar(p, r, width = width, color='b', label='Group')\n",
        "\n",
        "plt.xticks(ticks=x_ind +0.1, labels=da_pivot.index)\n",
        "\n",
        "plt.legend()\n",
        "plt.show()"
      ],
      "execution_count": 38,
      "outputs": [
        {
          "output_type": "display_data",
          "data": {
            "image/png": "[encoded data removed]",
            "text/plain": [
              "<Figure size 432x288 with 1 Axes>"
            ]
          },
          "metadata": {
            "tags": [],
            "needs_background": "light"
          }
        }
      ]
    },
    {
      "cell_type": "code",
      "metadata": {
        "colab": {
          "base_uri": "https://localhost:8080/"
        },
        "id": "Lvoc7937dAFH",
        "outputId": "4c612146-ca07-400e-cbd1-813adac53227"
      },
      "source": [
        "df2.columns"
      ],
      "execution_count": 39,
      "outputs": [
        {
          "output_type": "execute_result",
          "data": {
            "text/plain": [
              "Index(['hotel', 'country', 'customer_type', 'arrival_date_year',\n",
              "       'arrival_date_month', 'reserved_room_type', 'assigned_room_type'],\n",
              "      dtype='object')"
            ]
          },
          "metadata": {
            "tags": []
          },
          "execution_count": 39
        }
      ]
    },
    {
      "cell_type": "code",
      "metadata": {
        "id": "GhqFpPBSgshm"
      },
      "source": [
        "df_2015 = df2.loc[df2[\"arrival_date_year\"] == 2015, ['country']]\n",
        "df_2016 = df2.loc[df2[\"arrival_date_year\"] == 2016, ['country']]\n",
        "df_2017 = df2.loc[df2[\"arrival_date_year\"] == 2017, ['country']]"
      ],
      "execution_count": 40,
      "outputs": []
    },
    {
      "cell_type": "code",
      "metadata": {
        "colab": {
          "base_uri": "https://localhost:8080/",
          "height": 457
        },
        "id": "5MUs4-Lreh0o",
        "outputId": "82d55cbf-f0ca-4755-d5aa-855cd1625be9"
      },
      "source": [
        "from collections import Counter\n",
        "\n",
        "negara_count= Counter(df_2015['country']).most_common(5)\n",
        "nilai= []\n",
        "list_negara=[]\n",
        "for i in negara_count:\n",
        "  nilai.append(i[1])\n",
        "  list_negara.append(i[0])\n",
        "\n",
        "# print(nilai)\n",
        "# print(list_negara)\n",
        "\n",
        "plt.figure(figsize=(8, 6))\n",
        "plt.pie(nilai, labels= list_negara, startangle=0,\n",
        "       autopct = '%1.1f%%',pctdistance=0.85, wedgeprops={'edgecolor': 'black'})\n",
        "\n",
        "plt.title(\"Top Visitor 2015\", fontsize= 18)\n",
        "plt.tight_layout()\n",
        "plt.show()\n",
        "plt.savefig(\"Top_Visitor.png\")"
      ],
      "execution_count": 41,
      "outputs": [
        {
          "output_type": "display_data",
          "data": {
            "image/png": "[encoded data removed]",
            "text/plain": [
              "<Figure size 576x432 with 1 Axes>"
            ]
          },
          "metadata": {
            "tags": []
          }
        },
        {
          "output_type": "display_data",
          "data": {
            "text/plain": [
              "<Figure size 432x288 with 0 Axes>"
            ]
          },
          "metadata": {
            "tags": []
          }
        }
      ]
    },
    {
      "cell_type": "code",
      "metadata": {
        "colab": {
          "base_uri": "https://localhost:8080/",
          "height": 457
        },
        "id": "w-Qa-Tl2l4AX",
        "outputId": "f90ec4c8-2b53-48e2-8d5e-282ce4eae0ee"
      },
      "source": [
        "negara_count= Counter(df_2016['country']).most_common(5)\n",
        "nilai= []\n",
        "list_negara=[]\n",
        "for i in negara_count:\n",
        "  nilai.append(i[1])\n",
        "  list_negara.append(i[0])\n",
        "\n",
        "plt.figure(figsize=(8, 6))\n",
        "plt.pie(nilai, labels= list_negara, startangle=0,\n",
        "       autopct = '%1.1f%%',pctdistance=0.85, wedgeprops={'edgecolor': 'black'}, labeldistance= 1.1)\n",
        "\n",
        "plt.title(\"Top Visitor 2016\", fontsize= 16)\n",
        "plt.tight_layout()\n",
        "plt.show()\n",
        "plt.savefig(\"Top_Visitor2.png\")"
      ],
      "execution_count": 42,
      "outputs": [
        {
          "output_type": "display_data",
          "data": {
            "image/png": "[encoded data removed]",
            "text/plain": [
              "<Figure size 576x432 with 1 Axes>"
            ]
          },
          "metadata": {
            "tags": []
          }
        },
        {
          "output_type": "display_data",
          "data": {
            "text/plain": [
              "<Figure size 432x288 with 0 Axes>"
            ]
          },
          "metadata": {
            "tags": []
          }
        }
      ]
    },
    {
      "cell_type": "code",
      "metadata": {
        "colab": {
          "base_uri": "https://localhost:8080/",
          "height": 457
        },
        "id": "kf8S_riumtAR",
        "outputId": "670a8353-5555-47de-e877-16985c138613"
      },
      "source": [
        "negara_count= Counter(df_2017['country']).most_common(5)\n",
        "nilai= []\n",
        "list_negara=[]\n",
        "for i in negara_count:\n",
        "  nilai.append(i[1])\n",
        "  list_negara.append(i[0])\n",
        "\n",
        "plt.figure(figsize=(8, 6))\n",
        "plt.pie(nilai, labels= list_negara, startangle=0,\n",
        "       autopct = '%1.1f%%',pctdistance=0.85, wedgeprops={'edgecolor': 'black'})\n",
        "\n",
        "plt.title(\"Top Visitor 2017\", fontsize= 16)\n",
        "plt.tight_layout()\n",
        "plt.show()\n",
        "plt.savefig(\"Top_Visitor3.png\")"
      ],
      "execution_count": 43,
      "outputs": [
        {
          "output_type": "display_data",
          "data": {
            "image/png": "[encoded data removed]",
            "text/plain": [
              "<Figure size 576x432 with 1 Axes>"
            ]
          },
          "metadata": {
            "tags": []
          }
        },
        {
          "output_type": "display_data",
          "data": {
            "text/plain": [
              "<Figure size 432x288 with 0 Axes>"
            ]
          },
          "metadata": {
            "tags": []
          }
        }
      ]
    },
    {
      "cell_type": "code",
      "metadata": {
        "id": "HgUPs6iN9nHv"
      },
      "source": [
        "#general data berdasarkan hotel dan customer type\n",
        "\n",
        "data_group1= df[['hotel','customer_type']].groupby('customer_type').count()\n",
        "data_group1['customer']= list(data_group1.index)\n",
        "data_group1.reset_index(drop=True,inplace=True)\n",
        "data_group1=data_group1[['customer','hotel']]\n",
        "data_group1.sort_values(by='hotel', ascending= False, inplace=True)\n"
      ],
      "execution_count": 44,
      "outputs": []
    },
    {
      "cell_type": "code",
      "metadata": {
        "colab": {
          "base_uri": "https://localhost:8080/",
          "height": 457
        },
        "id": "CPVmPelwTN5i",
        "outputId": "569f9e5a-0f69-465e-ee4d-593500b28a1d"
      },
      "source": [
        "x = data_group1['customer']\n",
        "y = data_group1['hotel']\n",
        "plt.figure(figsize=(8, 6))\n",
        "plt.bar(x,y, color=['green', 'blue', 'black', 'red'])\n",
        "        \n",
        "plt.title('Customer Type', fontsize= 22, color='r',loc='left' )\n",
        "# plt.xlabel('Total Kunjungan')\n",
        "plt.ylabel('Total Kunjungan', fontsize= 16)\n",
        "\n",
        "plt.tight_layout()\n",
        "plt.show()\n",
        "plt.savefig(\"customer_type.png\")"
      ],
      "execution_count": 45,
      "outputs": [
        {
          "output_type": "display_data",
          "data": {
            "image/png": "[encoded data removed]",
            "text/plain": [
              "<Figure size 576x432 with 1 Axes>"
            ]
          },
          "metadata": {
            "tags": [],
            "needs_background": "light"
          }
        },
        {
          "output_type": "display_data",
          "data": {
            "text/plain": [
              "<Figure size 432x288 with 0 Axes>"
            ]
          },
          "metadata": {
            "tags": []
          }
        }
      ]
    },
    {
      "cell_type": "code",
      "metadata": {
        "id": "qg0Fsoqc7Kxe"
      },
      "source": [
        "data_group2= df[['hotel','reserved_room_type']].groupby('reserved_room_type').count()"
      ],
      "execution_count": 46,
      "outputs": []
    },
    {
      "cell_type": "code",
      "metadata": {
        "id": "Z2Ih6QkTjMNR"
      },
      "source": [
        "data_group2['Reserved']= list(data_group2.index)"
      ],
      "execution_count": 47,
      "outputs": []
    },
    {
      "cell_type": "code",
      "metadata": {
        "id": "qXkKD_KDc659",
        "colab": {
          "base_uri": "https://localhost:8080/",
          "height": 335
        },
        "outputId": "cbfece18-b1bd-48b8-f0b8-c837c35f61f7"
      },
      "source": [
        "data_group2=data_group2[['Reserved','hotel']]\n",
        "data_group2.reset_index(drop=True,inplace=True)\n",
        "data_group2.sort_values(by=['hotel'], inplace=True, ascending=False)\n",
        "data_group2\n"
      ],
      "execution_count": 48,
      "outputs": [
        {
          "output_type": "execute_result",
          "data": {
            "text/html": [
              "<div>\n",
              "<style scoped>\n",
              "    .dataframe tbody tr th:only-of-type {\n",
              "        vertical-align: middle;\n",
              "    }\n",
              "\n",
              "    .dataframe tbody tr th {\n",
              "        vertical-align: top;\n",
              "    }\n",
              "\n",
              "    .dataframe thead th {\n",
              "        text-align: right;\n",
              "    }\n",
              "</style>\n",
              "<table border=\"1\" class=\"dataframe\">\n",
              "  <thead>\n",
              "    <tr style=\"text-align: right;\">\n",
              "      <th></th>\n",
              "      <th>Reserved</th>\n",
              "      <th>hotel</th>\n",
              "    </tr>\n",
              "  </thead>\n",
              "  <tbody>\n",
              "    <tr>\n",
              "      <th>0</th>\n",
              "      <td>A</td>\n",
              "      <td>85994</td>\n",
              "    </tr>\n",
              "    <tr>\n",
              "      <th>3</th>\n",
              "      <td>D</td>\n",
              "      <td>19201</td>\n",
              "    </tr>\n",
              "    <tr>\n",
              "      <th>4</th>\n",
              "      <td>E</td>\n",
              "      <td>6535</td>\n",
              "    </tr>\n",
              "    <tr>\n",
              "      <th>5</th>\n",
              "      <td>F</td>\n",
              "      <td>2897</td>\n",
              "    </tr>\n",
              "    <tr>\n",
              "      <th>6</th>\n",
              "      <td>G</td>\n",
              "      <td>2094</td>\n",
              "    </tr>\n",
              "    <tr>\n",
              "      <th>1</th>\n",
              "      <td>B</td>\n",
              "      <td>1118</td>\n",
              "    </tr>\n",
              "    <tr>\n",
              "      <th>2</th>\n",
              "      <td>C</td>\n",
              "      <td>932</td>\n",
              "    </tr>\n",
              "    <tr>\n",
              "      <th>7</th>\n",
              "      <td>H</td>\n",
              "      <td>601</td>\n",
              "    </tr>\n",
              "    <tr>\n",
              "      <th>9</th>\n",
              "      <td>P</td>\n",
              "      <td>12</td>\n",
              "    </tr>\n",
              "    <tr>\n",
              "      <th>8</th>\n",
              "      <td>L</td>\n",
              "      <td>6</td>\n",
              "    </tr>\n",
              "  </tbody>\n",
              "</table>\n",
              "</div>"
            ],
            "text/plain": [
              "  Reserved  hotel\n",
              "0        A  85994\n",
              "3        D  19201\n",
              "4        E   6535\n",
              "5        F   2897\n",
              "6        G   2094\n",
              "1        B   1118\n",
              "2        C    932\n",
              "7        H    601\n",
              "9        P     12\n",
              "8        L      6"
            ]
          },
          "metadata": {
            "tags": []
          },
          "execution_count": 48
        }
      ]
    },
    {
      "cell_type": "code",
      "metadata": {
        "id": "LCXZ-VWNmXVV",
        "colab": {
          "base_uri": "https://localhost:8080/"
        },
        "outputId": "a6219b76-bdf7-4b72-8fdb-2ebd6583e035"
      },
      "source": [
        "print(data_group2)"
      ],
      "execution_count": 49,
      "outputs": [
        {
          "output_type": "stream",
          "text": [
            "  Reserved  hotel\n",
            "0        A  85994\n",
            "3        D  19201\n",
            "4        E   6535\n",
            "5        F   2897\n",
            "6        G   2094\n",
            "1        B   1118\n",
            "2        C    932\n",
            "7        H    601\n",
            "9        P     12\n",
            "8        L      6\n"
          ],
          "name": "stdout"
        }
      ]
    },
    {
      "cell_type": "code",
      "metadata": {
        "colab": {
          "base_uri": "https://localhost:8080/",
          "height": 497
        },
        "id": "am1pNfl5h0gI",
        "outputId": "f5229d67-e524-44fc-e721-2423f6d24d26"
      },
      "source": [
        "plt.figure(figsize=(10, 8))\n",
        "sns.barplot(x ='Reserved',\n",
        "            y = 'hotel',\n",
        "            data = data_group2)\n",
        "plt.show()"
      ],
      "execution_count": 50,
      "outputs": [
        {
          "output_type": "display_data",
          "data": {
            "image/png": "[encoded data removed]",
            "text/plain": [
              "<Figure size 720x576 with 1 Axes>"
            ]
          },
          "metadata": {
            "tags": [],
            "needs_background": "light"
          }
        }
      ]
    },
    {
      "cell_type": "code",
      "metadata": {
        "id": "fu2T86aWD3az"
      },
      "source": [
        "data_group3= df[['hotel','customer_type','is_repeated_guest', 'arrival_date_year']]"
      ],
      "execution_count": 51,
      "outputs": []
    },
    {
      "cell_type": "code",
      "metadata": {
        "colab": {
          "base_uri": "https://localhost:8080/"
        },
        "id": "laet6oobjC1L",
        "outputId": "68be1914-2d81-4241-b9dc-c3e2b1c6542e"
      },
      "source": [
        "df[\"repeated\"] = np.where(df[\"is_repeated_guest\"]==0, 'tidak', 'ya')"
      ],
      "execution_count": 52,
      "outputs": [
        {
          "output_type": "stream",
          "text": [
            "/usr/local/lib/python3.7/dist-packages/ipykernel_launcher.py:1: SettingWithCopyWarning: \n",
            "A value is trying to be set on a copy of a slice from a DataFrame.\n",
            "Try using .loc[row_indexer,col_indexer] = value instead\n",
            "\n",
            "See the caveats in the documentation: https://pandas.pydata.org/pandas-docs/stable/user_guide/indexing.html#returning-a-view-versus-a-copy\n",
            "  \"\"\"Entry point for launching an IPython kernel.\n"
          ],
          "name": "stderr"
        }
      ]
    },
    {
      "cell_type": "code",
      "metadata": {
        "colab": {
          "base_uri": "https://localhost:8080/"
        },
        "id": "3IzXlAjyjWzd",
        "outputId": "c13c6cc8-9feb-4f0a-9555-991e6067b9fc"
      },
      "source": [
        "df.drop(columns= ['is_repeated_guest'], inplace= True)"
      ],
      "execution_count": 53,
      "outputs": [
        {
          "output_type": "stream",
          "text": [
            "/usr/local/lib/python3.7/dist-packages/pandas/core/frame.py:4174: SettingWithCopyWarning: \n",
            "A value is trying to be set on a copy of a slice from a DataFrame\n",
            "\n",
            "See the caveats in the documentation: https://pandas.pydata.org/pandas-docs/stable/user_guide/indexing.html#returning-a-view-versus-a-copy\n",
            "  errors=errors,\n"
          ],
          "name": "stderr"
        }
      ]
    },
    {
      "cell_type": "code",
      "metadata": {
        "colab": {
          "base_uri": "https://localhost:8080/"
        },
        "id": "RPzMW1xNyiTU",
        "outputId": "8088489d-29cd-402d-8361-3fb1fdcf5ded"
      },
      "source": [
        "data_group3= df[['hotel', 'repeated', 'arrival_date_year']].groupby(['hotel', 'repeated'])['hotel'].count()\n",
        "data_group3"
      ],
      "execution_count": 54,
      "outputs": [
        {
          "output_type": "execute_result",
          "data": {
            "text/plain": [
              "hotel         repeated\n",
              "City Hotel    tidak       77298\n",
              "              ya           2032\n",
              "Resort Hotel  tidak       38282\n",
              "              ya           1778\n",
              "Name: hotel, dtype: int64"
            ]
          },
          "metadata": {
            "tags": []
          },
          "execution_count": 54
        }
      ]
    },
    {
      "cell_type": "code",
      "metadata": {
        "colab": {
          "base_uri": "https://localhost:8080/",
          "height": 728
        },
        "id": "P72LB_XKLIww",
        "outputId": "62bb897a-27ee-46e1-b936-dd2dd84a839c"
      },
      "source": [
        "#MASUKIN DALAM PPT\n",
        "fig, (ax1, ax2)= plt.subplots(2,1, figsize=(10,10))\n",
        "\n",
        "ax1.pie(data_group3['City Hotel'], labels=['tidak','ya'], startangle=0, \n",
        "        autopct = '%1.1f%%', pctdistance=1.5, wedgeprops={'edgecolor': 'black'})\n",
        "\n",
        "ax2.pie(data_group3['Resort Hotel'], labels=['tidak','ya'], startangle=0,\n",
        "        autopct = '%1.1f%%', pctdistance=1.5, wedgeprops={'edgecolor': 'black'})\n",
        "\n",
        "\n",
        "ax1.set_title(\"Repeat Reservation City Hotel\", fontsize= 16)\n",
        "ax2.set_title(\"Repeat Reservation Resort Hotel\", fontsize= 16)\n",
        "\n",
        "plt.tight_layout()\n",
        "plt.show()\n",
        "\n",
        "\n",
        "fig.savefig('fig1.png')\n"
      ],
      "execution_count": 55,
      "outputs": [
        {
          "output_type": "display_data",
          "data": {
            "image/png": "[encoded data removed]",
            "text/plain": [
              "<Figure size 720x720 with 2 Axes>"
            ]
          },
          "metadata": {
            "tags": []
          }
        }
      ]
    },
    {
      "cell_type": "code",
      "metadata": {
        "colab": {
          "base_uri": "https://localhost:8080/",
          "height": 297
        },
        "id": "Tdku-iSElvr5",
        "outputId": "addc89b0-6186-4c58-e6e1-63ba3b9e265f"
      },
      "source": [
        "explode= [0, 0.1]\n",
        "plt.pie(data_group3['City Hotel'], labels=['tidak','ya'],  explode=explode, startangle=0, \n",
        "        autopct = '%1.1f%%', pctdistance=1.55, wedgeprops={'edgecolor': 'black'})\n",
        "\n",
        "centre_circle = plt.Circle((0,0),0.70,fc='white')\n",
        "fig = plt.gcf()\n",
        "fig.gca().add_artist(centre_circle)\n",
        "\n",
        "plt.title(\"Repeat Order City Hotel\")\n",
        "plt.tight_layout()\n",
        "plt.show()"
      ],
      "execution_count": 56,
      "outputs": [
        {
          "output_type": "display_data",
          "data": {
            "image/png": "[encoded data removed]",
            "text/plain": [
              "<Figure size 432x288 with 1 Axes>"
            ]
          },
          "metadata": {
            "tags": []
          }
        }
      ]
    },
    {
      "cell_type": "code",
      "metadata": {
        "colab": {
          "base_uri": "https://localhost:8080/",
          "height": 297
        },
        "id": "OKYyUG6qvH_k",
        "outputId": "4f2b930d-eee1-4b1c-fe00-7003240323cf"
      },
      "source": [
        "explode= [0, 0.1]\n",
        "plt.pie(data_group3['Resort Hotel'], labels=['tidak','ya'],  explode=explode, startangle=0, \n",
        "        autopct = '%1.1f%%', pctdistance=1.55, wedgeprops={'edgecolor': 'black'})\n",
        "\n",
        "centre_circle = plt.Circle((0,0),0.70,fc='white')\n",
        "fig = plt.gcf()\n",
        "fig.gca().add_artist(centre_circle)\n",
        "\n",
        "plt.title(\"Repeat Order Resort Hotel\")\n",
        "plt.tight_layout()\n",
        "plt.show()"
      ],
      "execution_count": 57,
      "outputs": [
        {
          "output_type": "display_data",
          "data": {
            "image/png": "[encoded data removed]",
            "text/plain": [
              "<Figure size 432x288 with 1 Axes>"
            ]
          },
          "metadata": {
            "tags": []
          }
        }
      ]
    },
    {
      "cell_type": "code",
      "metadata": {
        "colab": {
          "base_uri": "https://localhost:8080/"
        },
        "id": "QBgZ4I6mo2xn",
        "outputId": "e0876f37-e8ee-4ead-d5cd-6640acf63caf"
      },
      "source": [
        "data_group3.head()"
      ],
      "execution_count": 58,
      "outputs": [
        {
          "output_type": "execute_result",
          "data": {
            "text/plain": [
              "hotel         repeated\n",
              "City Hotel    tidak       77298\n",
              "              ya           2032\n",
              "Resort Hotel  tidak       38282\n",
              "              ya           1778\n",
              "Name: hotel, dtype: int64"
            ]
          },
          "metadata": {
            "tags": []
          },
          "execution_count": 58
        }
      ]
    },
    {
      "cell_type": "code",
      "metadata": {
        "colab": {
          "base_uri": "https://localhost:8080/",
          "height": 133
        },
        "id": "NgllCBcWD_Hq",
        "outputId": "5dce50ad-1173-4848-c64f-79ff08668df5"
      },
      "source": [
        "#customer yang repeat order berdasarkan hotel\n",
        "data_group3= df[['hotel','customer_type','repeated', 'arrival_date_year']]\n",
        "pivot_data3_table= data_group3.pivot_table(values= 'arrival_date_year', index= 'repeated', columns='hotel', aggfunc='count')\n",
        "pivot_data3_table"
      ],
      "execution_count": 59,
      "outputs": [
        {
          "output_type": "execute_result",
          "data": {
            "text/html": [
              "<div>\n",
              "<style scoped>\n",
              "    .dataframe tbody tr th:only-of-type {\n",
              "        vertical-align: middle;\n",
              "    }\n",
              "\n",
              "    .dataframe tbody tr th {\n",
              "        vertical-align: top;\n",
              "    }\n",
              "\n",
              "    .dataframe thead th {\n",
              "        text-align: right;\n",
              "    }\n",
              "</style>\n",
              "<table border=\"1\" class=\"dataframe\">\n",
              "  <thead>\n",
              "    <tr style=\"text-align: right;\">\n",
              "      <th>hotel</th>\n",
              "      <th>City Hotel</th>\n",
              "      <th>Resort Hotel</th>\n",
              "    </tr>\n",
              "    <tr>\n",
              "      <th>repeated</th>\n",
              "      <th></th>\n",
              "      <th></th>\n",
              "    </tr>\n",
              "  </thead>\n",
              "  <tbody>\n",
              "    <tr>\n",
              "      <th>tidak</th>\n",
              "      <td>77298</td>\n",
              "      <td>38282</td>\n",
              "    </tr>\n",
              "    <tr>\n",
              "      <th>ya</th>\n",
              "      <td>2032</td>\n",
              "      <td>1778</td>\n",
              "    </tr>\n",
              "  </tbody>\n",
              "</table>\n",
              "</div>"
            ],
            "text/plain": [
              "hotel     City Hotel  Resort Hotel\n",
              "repeated                          \n",
              "tidak          77298         38282\n",
              "ya              2032          1778"
            ]
          },
          "metadata": {
            "tags": []
          },
          "execution_count": 59
        }
      ]
    },
    {
      "cell_type": "code",
      "metadata": {
        "colab": {
          "base_uri": "https://localhost:8080/",
          "height": 567
        },
        "id": "SYPNCi72-twj",
        "outputId": "25e806e6-8eb7-4b10-f7c3-012e627a2d01"
      },
      "source": [
        "fig, (ax1, ax2) = plt.subplots(1,2,figsize=(15,15))\n",
        "\n",
        "ax1.pie(pivot_data3_table['City Hotel'], labels=pivot_data3_table.index, explode=explode, startangle=0,\n",
        "       autopct = '%1.1f%%',pctdistance=0.85, wedgeprops={'edgecolor': 'black'})\n",
        "\n",
        "ax2.pie(pivot_data3_table['Resort Hotel'], labels=pivot_data3_table.index, explode=explode, startangle=0,\n",
        "       autopct = '%1.1f%%',pctdistance=0.85, wedgeprops={'edgecolor': 'black'})\n",
        "\n",
        "ax1.set_title('City Hotel', fontsize=15)\n",
        "ax2.set_title('Resort Hotel', fontsize=15)\n",
        "\n",
        "# centre_circle = plt.Circle((0,0),0.70,fc='white')\n",
        "# fig = plt.gcf()\n",
        "# fig.gca().add_artist(centre_circle)\n",
        "\n",
        "plt.tight_layout()\n",
        "plt.show()\n",
        "\n",
        "fig.savefig('fig2.png')"
      ],
      "execution_count": 60,
      "outputs": [
        {
          "output_type": "display_data",
          "data": {
            "image/png": "[encoded data removed]",
            "text/plain": [
              "<Figure size 1080x1080 with 2 Axes>"
            ]
          },
          "metadata": {
            "tags": []
          }
        }
      ]
    },
    {
      "cell_type": "code",
      "metadata": {
        "id": "1avdopl55G12"
      },
      "source": [
        "#PAKE COMBINE CHART"
      ],
      "execution_count": 61,
      "outputs": []
    },
    {
      "cell_type": "code",
      "metadata": {
        "id": "L0BlDmgXEH0n"
      },
      "source": [
        "data_group4= df[['hotel','customer_type','is_canceled']].groupby(['hotel','is_canceled'])['is_canceled'].count()\n"
      ],
      "execution_count": 62,
      "outputs": []
    },
    {
      "cell_type": "code",
      "metadata": {
        "colab": {
          "base_uri": "https://localhost:8080/"
        },
        "id": "FWphPvJMvxTE",
        "outputId": "669ba028-1ac3-4fcd-c008-0a0a967e81d1"
      },
      "source": [
        "df[\"canceled\"] = np.where(df[\"is_canceled\"]==0, 'tidak', 'ya')"
      ],
      "execution_count": 63,
      "outputs": [
        {
          "output_type": "stream",
          "text": [
            "/usr/local/lib/python3.7/dist-packages/ipykernel_launcher.py:1: SettingWithCopyWarning: \n",
            "A value is trying to be set on a copy of a slice from a DataFrame.\n",
            "Try using .loc[row_indexer,col_indexer] = value instead\n",
            "\n",
            "See the caveats in the documentation: https://pandas.pydata.org/pandas-docs/stable/user_guide/indexing.html#returning-a-view-versus-a-copy\n",
            "  \"\"\"Entry point for launching an IPython kernel.\n"
          ],
          "name": "stderr"
        }
      ]
    },
    {
      "cell_type": "code",
      "metadata": {
        "colab": {
          "base_uri": "https://localhost:8080/"
        },
        "id": "kACJ2qK8v4pz",
        "outputId": "74474301-bbc0-4578-e6d4-7bd34c2430d1"
      },
      "source": [
        "df.drop(columns= ['is_canceled'], inplace=True)"
      ],
      "execution_count": 64,
      "outputs": [
        {
          "output_type": "stream",
          "text": [
            "/usr/local/lib/python3.7/dist-packages/pandas/core/frame.py:4174: SettingWithCopyWarning: \n",
            "A value is trying to be set on a copy of a slice from a DataFrame\n",
            "\n",
            "See the caveats in the documentation: https://pandas.pydata.org/pandas-docs/stable/user_guide/indexing.html#returning-a-view-versus-a-copy\n",
            "  errors=errors,\n"
          ],
          "name": "stderr"
        }
      ]
    },
    {
      "cell_type": "code",
      "metadata": {
        "id": "cmWvvTfKEwsR"
      },
      "source": [
        "data_group4= df[['hotel', 'canceled', 'arrival_date_year', 'customer_type']]\n",
        "\n",
        "#bookingan yang cancel berdasarkan tipe hotel"
      ],
      "execution_count": 65,
      "outputs": []
    },
    {
      "cell_type": "code",
      "metadata": {
        "colab": {
          "base_uri": "https://localhost:8080/",
          "height": 133
        },
        "id": "Lg6MaLNPwoUS",
        "outputId": "b94b17da-f3f9-49d0-a82f-6c2af02f5707"
      },
      "source": [
        "d4_pivot= pd.pivot_table(data_group4, index=['canceled'], columns='hotel', values='customer_type', aggfunc='count')\n",
        "d4_pivot\n"
      ],
      "execution_count": 66,
      "outputs": [
        {
          "output_type": "execute_result",
          "data": {
            "text/html": [
              "<div>\n",
              "<style scoped>\n",
              "    .dataframe tbody tr th:only-of-type {\n",
              "        vertical-align: middle;\n",
              "    }\n",
              "\n",
              "    .dataframe tbody tr th {\n",
              "        vertical-align: top;\n",
              "    }\n",
              "\n",
              "    .dataframe thead th {\n",
              "        text-align: right;\n",
              "    }\n",
              "</style>\n",
              "<table border=\"1\" class=\"dataframe\">\n",
              "  <thead>\n",
              "    <tr style=\"text-align: right;\">\n",
              "      <th>hotel</th>\n",
              "      <th>City Hotel</th>\n",
              "      <th>Resort Hotel</th>\n",
              "    </tr>\n",
              "    <tr>\n",
              "      <th>canceled</th>\n",
              "      <th></th>\n",
              "      <th></th>\n",
              "    </tr>\n",
              "  </thead>\n",
              "  <tbody>\n",
              "    <tr>\n",
              "      <th>tidak</th>\n",
              "      <td>46228</td>\n",
              "      <td>28938</td>\n",
              "    </tr>\n",
              "    <tr>\n",
              "      <th>ya</th>\n",
              "      <td>33102</td>\n",
              "      <td>11122</td>\n",
              "    </tr>\n",
              "  </tbody>\n",
              "</table>\n",
              "</div>"
            ],
            "text/plain": [
              "hotel     City Hotel  Resort Hotel\n",
              "canceled                          \n",
              "tidak          46228         28938\n",
              "ya             33102         11122"
            ]
          },
          "metadata": {
            "tags": []
          },
          "execution_count": 66
        }
      ]
    },
    {
      "cell_type": "code",
      "metadata": {
        "colab": {
          "base_uri": "https://localhost:8080/",
          "height": 575
        },
        "id": "gYYgD272Ej-3",
        "outputId": "3c4eb990-df1f-48ea-a583-65a2040c7544"
      },
      "source": [
        "#MASUKIN KE PPT\n",
        "fig, (ax1, ax2) = plt.subplots(1,2,figsize=(15,15))\n",
        "ax1.pie(d4_pivot['City Hotel'], labels= (['tidak', 'ya',]),explode=explode, startangle=90,  autopct = '%1.1f%%',\n",
        "        wedgeprops={'edgecolor': 'black'})\n",
        "\n",
        "ax2.pie(d4_pivot['Resort Hotel'], labels= (['tidak', 'ya']), explode=explode, startangle=90,  autopct = '%1.1f%%',\n",
        "        wedgeprops={'edgecolor': 'black'})\n",
        "\n",
        "\n",
        "ax1.set_title('City Hotel Cancelation', fontsize=18)\n",
        "ax2.set_title('Resort Hotel Cancelation', fontsize=18)\n",
        "\n",
        "\n",
        "plt.tight_layout()\n",
        "plt.show()\n",
        "\n",
        "fig.savefig('fig3.png')"
      ],
      "execution_count": 67,
      "outputs": [
        {
          "output_type": "display_data",
          "data": {
            "image/png": "[encoded data removed]",
            "text/plain": [
              "<Figure size 1080x1080 with 2 Axes>"
            ]
          },
          "metadata": {
            "tags": []
          }
        }
      ]
    },
    {
      "cell_type": "code",
      "metadata": {
        "colab": {
          "base_uri": "https://localhost:8080/",
          "height": 441
        },
        "id": "oxddoX-Ax9-m",
        "outputId": "d82197c4-dd8c-4f91-8851-f7f84e38f545"
      },
      "source": [
        "explode= [0, .1]\n",
        "plt.figure(figsize=(8,6))\n",
        "plt.pie(d4_pivot['City Hotel'], labels= (['tidak', 'ya',]), explode=explode, startangle=90,  autopct = '%1.1f%%',\n",
        "        wedgeprops={'edgecolor': 'black'})\n",
        "\n",
        "\n",
        "plt.title(\"City Hotel Cancelation\", fontsize= 16)\n",
        "plt.tight_layout()\n",
        "plt.show()"
      ],
      "execution_count": 68,
      "outputs": [
        {
          "output_type": "display_data",
          "data": {
            "image/png": "[encoded data removed]",
            "text/plain": [
              "<Figure size 576x432 with 1 Axes>"
            ]
          },
          "metadata": {
            "tags": []
          }
        }
      ]
    },
    {
      "cell_type": "code",
      "metadata": {
        "colab": {
          "base_uri": "https://localhost:8080/",
          "height": 441
        },
        "id": "_VaSIUmSzlhc",
        "outputId": "a520d612-eff7-4b5b-fdcb-130298eef670"
      },
      "source": [
        "explode= [0, 0.1]\n",
        "\n",
        "plt.figure(figsize=(8,6))\n",
        "plt.pie(d4_pivot['Resort Hotel'], labels= (['tidak', 'ya']), explode=explode, startangle=90,  autopct = '%1.1f%%',\n",
        "        wedgeprops={'edgecolor': 'black'})\n",
        "\n",
        "\n",
        "plt.title(\"Resort Hotel Cancelation\", fontsize= 16)\n",
        "plt.tight_layout()\n",
        "plt.show()"
      ],
      "execution_count": 69,
      "outputs": [
        {
          "output_type": "display_data",
          "data": {
            "image/png": "[encoded data removed]",
            "text/plain": [
              "<Figure size 576x432 with 1 Axes>"
            ]
          },
          "metadata": {
            "tags": []
          }
        }
      ]
    },
    {
      "cell_type": "code",
      "metadata": {
        "id": "ZPbxfWCbFSGS",
        "colab": {
          "base_uri": "https://localhost:8080/",
          "height": 191
        },
        "outputId": "e9af173e-6231-4aa5-e23c-8d975d50b72c"
      },
      "source": [
        "data_group5= df[['hotel','days_in_waiting_list','canceled']].groupby(['hotel','canceled'])['days_in_waiting_list'].agg(['mean'])\n",
        "data_group5\n",
        "#orang yang cancel itu rata-rata nunggu di waiting list kalau sampai 5 hari, khusus city hotel, \n",
        "#orang yang mesan city hotel bisa dibiang dapat menunggu hingga 3 hari, dan rata2 tunggu hingga 2 hari\n",
        "#resort hotel masih considerable"
      ],
      "execution_count": 70,
      "outputs": [
        {
          "output_type": "execute_result",
          "data": {
            "text/html": [
              "<div>\n",
              "<style scoped>\n",
              "    .dataframe tbody tr th:only-of-type {\n",
              "        vertical-align: middle;\n",
              "    }\n",
              "\n",
              "    .dataframe tbody tr th {\n",
              "        vertical-align: top;\n",
              "    }\n",
              "\n",
              "    .dataframe thead th {\n",
              "        text-align: right;\n",
              "    }\n",
              "</style>\n",
              "<table border=\"1\" class=\"dataframe\">\n",
              "  <thead>\n",
              "    <tr style=\"text-align: right;\">\n",
              "      <th></th>\n",
              "      <th></th>\n",
              "      <th>mean</th>\n",
              "    </tr>\n",
              "    <tr>\n",
              "      <th>hotel</th>\n",
              "      <th>canceled</th>\n",
              "      <th></th>\n",
              "    </tr>\n",
              "  </thead>\n",
              "  <tbody>\n",
              "    <tr>\n",
              "      <th rowspan=\"2\" valign=\"top\">City Hotel</th>\n",
              "      <th>tidak</th>\n",
              "      <td>2.150082</td>\n",
              "    </tr>\n",
              "    <tr>\n",
              "      <th>ya</th>\n",
              "      <td>4.730409</td>\n",
              "    </tr>\n",
              "    <tr>\n",
              "      <th rowspan=\"2\" valign=\"top\">Resort Hotel</th>\n",
              "      <th>tidak</th>\n",
              "      <td>0.694934</td>\n",
              "    </tr>\n",
              "    <tr>\n",
              "      <th>ya</th>\n",
              "      <td>0.092789</td>\n",
              "    </tr>\n",
              "  </tbody>\n",
              "</table>\n",
              "</div>"
            ],
            "text/plain": [
              "                           mean\n",
              "hotel        canceled          \n",
              "City Hotel   tidak     2.150082\n",
              "             ya        4.730409\n",
              "Resort Hotel tidak     0.694934\n",
              "             ya        0.092789"
            ]
          },
          "metadata": {
            "tags": []
          },
          "execution_count": 70
        }
      ]
    },
    {
      "cell_type": "code",
      "metadata": {
        "id": "sP6-g2bgEx6-",
        "colab": {
          "base_uri": "https://localhost:8080/"
        },
        "outputId": "cc22e2a7-4a0c-4c30-e346-48f6b6ff0e5c"
      },
      "source": [
        "data_group6= df[['hotel','deposit_type','canceled','days_in_waiting_list']].groupby(['deposit_type','canceled'])['days_in_waiting_list'].count()\n",
        "\n",
        "data_group6\n",
        "#Bikinpresentase\n",
        "#Hotel yang cancel berdasarkan tipe deposit"
      ],
      "execution_count": 71,
      "outputs": [
        {
          "output_type": "execute_result",
          "data": {
            "text/plain": [
              "deposit_type  canceled\n",
              "No Deposit    tidak       74947\n",
              "              ya          29694\n",
              "Non Refund    tidak          93\n",
              "              ya          14494\n",
              "Refundable    tidak         126\n",
              "              ya             36\n",
              "Name: days_in_waiting_list, dtype: int64"
            ]
          },
          "metadata": {
            "tags": []
          },
          "execution_count": 71
        }
      ]
    },
    {
      "cell_type": "code",
      "metadata": {
        "id": "43KBOJOTFL-Z",
        "colab": {
          "base_uri": "https://localhost:8080/",
          "height": 457
        },
        "outputId": "2c73fc93-75a8-4b8a-cfa4-7541fb65f664"
      },
      "source": [
        "plt.figure(figsize=(8,6))\n",
        "plt.pie(data_group6['No Deposit'], labels=data_group6['No Deposit'].index,explode=explode, startangle=90,  autopct = '%1.1f%%',\n",
        "        wedgeprops={'edgecolor': 'black'})\n",
        "\n",
        "plt.title(\"No Deposit Cancelation\", fontsize= 16)\n",
        "plt.tight_layout()\n",
        "plt.show()\n",
        "plt.savefig('fig4.png')"
      ],
      "execution_count": 72,
      "outputs": [
        {
          "output_type": "display_data",
          "data": {
            "image/png": "[encoded data removed]",
            "text/plain": [
              "<Figure size 576x432 with 1 Axes>"
            ]
          },
          "metadata": {
            "tags": []
          }
        },
        {
          "output_type": "display_data",
          "data": {
            "text/plain": [
              "<Figure size 432x288 with 0 Axes>"
            ]
          },
          "metadata": {
            "tags": []
          }
        }
      ]
    },
    {
      "cell_type": "code",
      "metadata": {
        "id": "GUIpvyVvJ-LU",
        "colab": {
          "base_uri": "https://localhost:8080/",
          "height": 457
        },
        "outputId": "824b2532-6fcb-4c40-c8c3-13060d257179"
      },
      "source": [
        "plt.figure(figsize=(8,6))\n",
        "plt.pie(data_group6['Non Refund'], labels=data_group6['Non Refund'].index, startangle=180,  autopct = '%1.1f%%',\n",
        "        wedgeprops={'edgecolor': 'white'})\n",
        "\n",
        "plt.title(\"Non Refund Cancelation\", fontsize= 16)\n",
        "plt.tight_layout()\n",
        "plt.show()\n",
        "\n",
        "plt.savefig('fig5.png')"
      ],
      "execution_count": 73,
      "outputs": [
        {
          "output_type": "display_data",
          "data": {
            "image/png": "[encoded data removed]",
            "text/plain": [
              "<Figure size 576x432 with 1 Axes>"
            ]
          },
          "metadata": {
            "tags": []
          }
        },
        {
          "output_type": "display_data",
          "data": {
            "text/plain": [
              "<Figure size 432x288 with 0 Axes>"
            ]
          },
          "metadata": {
            "tags": []
          }
        }
      ]
    },
    {
      "cell_type": "code",
      "metadata": {
        "colab": {
          "base_uri": "https://localhost:8080/",
          "height": 457
        },
        "id": "aGmWTi2R3NT0",
        "outputId": "f22ecf9c-e83c-403d-b9d4-17867aec2bf5"
      },
      "source": [
        "plt.figure(figsize=(8,6))\n",
        "plt.pie(data_group6['Refundable'], labels=data_group6['Refundable'].index,explode=explode, startangle=30,  autopct = '%1.1f%%',\n",
        "        wedgeprops={'edgecolor': 'white'})\n",
        "\n",
        "plt.title(\"Refundable Cancelation\", fontsize= 16)\n",
        "plt.tight_layout()\n",
        "plt.show()\n",
        "\n",
        "plt.savefig('fig6.png')"
      ],
      "execution_count": 74,
      "outputs": [
        {
          "output_type": "display_data",
          "data": {
            "image/png": "[encoded data removed]",
            "text/plain": [
              "<Figure size 576x432 with 1 Axes>"
            ]
          },
          "metadata": {
            "tags": []
          }
        },
        {
          "output_type": "display_data",
          "data": {
            "text/plain": [
              "<Figure size 432x288 with 0 Axes>"
            ]
          },
          "metadata": {
            "tags": []
          }
        }
      ]
    },
    {
      "cell_type": "code",
      "metadata": {
        "colab": {
          "base_uri": "https://localhost:8080/",
          "height": 191
        },
        "id": "zl8mkP1T744Z",
        "outputId": "de482b4b-36a6-48ac-d7d4-1f83973391f8"
      },
      "source": [
        "data_group7= df[['hotel','deposit_type','canceled','days_in_waiting_list', 'reserved_room_type']].groupby(['hotel','canceled'])['days_in_waiting_list'].agg(['mean'])\n",
        "data_group7[:]"
      ],
      "execution_count": 75,
      "outputs": [
        {
          "output_type": "execute_result",
          "data": {
            "text/html": [
              "<div>\n",
              "<style scoped>\n",
              "    .dataframe tbody tr th:only-of-type {\n",
              "        vertical-align: middle;\n",
              "    }\n",
              "\n",
              "    .dataframe tbody tr th {\n",
              "        vertical-align: top;\n",
              "    }\n",
              "\n",
              "    .dataframe thead th {\n",
              "        text-align: right;\n",
              "    }\n",
              "</style>\n",
              "<table border=\"1\" class=\"dataframe\">\n",
              "  <thead>\n",
              "    <tr style=\"text-align: right;\">\n",
              "      <th></th>\n",
              "      <th></th>\n",
              "      <th>mean</th>\n",
              "    </tr>\n",
              "    <tr>\n",
              "      <th>hotel</th>\n",
              "      <th>canceled</th>\n",
              "      <th></th>\n",
              "    </tr>\n",
              "  </thead>\n",
              "  <tbody>\n",
              "    <tr>\n",
              "      <th rowspan=\"2\" valign=\"top\">City Hotel</th>\n",
              "      <th>tidak</th>\n",
              "      <td>2.150082</td>\n",
              "    </tr>\n",
              "    <tr>\n",
              "      <th>ya</th>\n",
              "      <td>4.730409</td>\n",
              "    </tr>\n",
              "    <tr>\n",
              "      <th rowspan=\"2\" valign=\"top\">Resort Hotel</th>\n",
              "      <th>tidak</th>\n",
              "      <td>0.694934</td>\n",
              "    </tr>\n",
              "    <tr>\n",
              "      <th>ya</th>\n",
              "      <td>0.092789</td>\n",
              "    </tr>\n",
              "  </tbody>\n",
              "</table>\n",
              "</div>"
            ],
            "text/plain": [
              "                           mean\n",
              "hotel        canceled          \n",
              "City Hotel   tidak     2.150082\n",
              "             ya        4.730409\n",
              "Resort Hotel tidak     0.694934\n",
              "             ya        0.092789"
            ]
          },
          "metadata": {
            "tags": []
          },
          "execution_count": 75
        }
      ]
    },
    {
      "cell_type": "code",
      "metadata": {
        "id": "miLLAl9IC_QX"
      },
      "source": [
        "#Cancelation in"
      ],
      "execution_count": 76,
      "outputs": []
    },
    {
      "cell_type": "code",
      "metadata": {
        "id": "ds-nPuRW9zWn"
      },
      "source": [
        "data_2015 =df.loc[df[\"arrival_date_year\"] == 2015, ['hotel','deposit_type','canceled','days_in_waiting_list', 'reserved_room_type']]\n",
        "data_2015= data_2015.groupby(['hotel','canceled'])['days_in_waiting_list'].count()\n",
        "\n",
        "data_2016 =df.loc[df[\"arrival_date_year\"] == 2016, ['hotel','deposit_type','canceled','days_in_waiting_list', 'reserved_room_type']]\n",
        "data_2016= data_2016.groupby(['hotel','canceled'])['days_in_waiting_list'].count()\n",
        "\n",
        "data_2017 =df.loc[df[\"arrival_date_year\"] == 2017, ['hotel','deposit_type','canceled','days_in_waiting_list', 'reserved_room_type']]\n",
        "data_2017= data_2017.groupby(['hotel','canceled'])['days_in_waiting_list'].count()"
      ],
      "execution_count": 77,
      "outputs": []
    },
    {
      "cell_type": "code",
      "metadata": {
        "id": "0WCcX7IYAg9d"
      },
      "source": [
        "#City Hotel\n",
        "cancel= [data_2015['City Hotel']['ya'], data_2016['City Hotel']['ya'], data_2017['City Hotel']['ya']]\n",
        "tahun= np.arange(len(data_group['tahun']))"
      ],
      "execution_count": 78,
      "outputs": []
    },
    {
      "cell_type": "code",
      "metadata": {
        "id": "34ZE1-s_DRq2"
      },
      "source": [
        "#Resort Hotel\n",
        "cancel2= [data_2015['Resort Hotel']['ya'], data_2016['Resort Hotel']['ya'], data_2017['Resort Hotel']['ya']]\n",
        "tahun2= np.arange(len(data_group['tahun']))"
      ],
      "execution_count": 79,
      "outputs": []
    },
    {
      "cell_type": "code",
      "metadata": {
        "colab": {
          "base_uri": "https://localhost:8080/",
          "height": 585
        },
        "id": "mZFY1iYmIgtb",
        "outputId": "a3e7b6b1-bd9b-4849-a318-f2a0f1b61c45"
      },
      "source": [
        "fig, (ax1, ax2) = plt.subplots(2,1,figsize=(8,8), sharex= True)\n",
        "ax1.bar(tahun, cancel)\n",
        "ax2.bar(tahun2, cancel2)\n",
        "\n",
        "x = np.arange(len(da_pivot.index))\n",
        "ax1.set_title('City Hotel Cancelation', fontsize=18)\n",
        "\n",
        "\n",
        "ax2.set_title('Resort Hotel Cancelation', fontsize=18)\n",
        "plt.xticks(ticks=x, labels=[2015, 2016, 2017])\n",
        "\n",
        "\n",
        "plt.tight_layout()\n",
        "plt.show()\n",
        "fig.savefig('fig7.png')"
      ],
      "execution_count": 80,
      "outputs": [
        {
          "output_type": "display_data",
          "data": {
            "image/png": "[encoded data removed]",
            "text/plain": [
              "<Figure size 576x576 with 2 Axes>"
            ]
          },
          "metadata": {
            "tags": [],
            "needs_background": "light"
          }
        }
      ]
    },
    {
      "cell_type": "code",
      "metadata": {
        "colab": {
          "base_uri": "https://localhost:8080/",
          "height": 441
        },
        "id": "RWTErJn6BmJK",
        "outputId": "a1674877-9b19-46fd-d8c7-212b8899cfb5"
      },
      "source": [
        "plt.figure(figsize=(8,6))\n",
        "plt.bar(tahun, cancel)\n",
        "\n",
        "plt.title('Cancelation in Reservation of City Hotel', fontsize= 18)\n",
        "plt.xlabel('Tahun', fontsize= 12)\n",
        "plt.ylabel('Total Number', fontsize= 12)\n",
        "\n",
        "plt.xticks(ticks=x, labels=[2015, 2016, 2017])\n",
        "plt.tight_layout()\n",
        "plt.show()"
      ],
      "execution_count": 81,
      "outputs": [
        {
          "output_type": "display_data",
          "data": {
            "image/png": "[encoded data removed]",
            "text/plain": [
              "<Figure size 576x432 with 1 Axes>"
            ]
          },
          "metadata": {
            "tags": [],
            "needs_background": "light"
          }
        }
      ]
    },
    {
      "cell_type": "code",
      "metadata": {
        "colab": {
          "base_uri": "https://localhost:8080/",
          "height": 441
        },
        "id": "FVXEl13vDfY2",
        "outputId": "dce0b0df-498e-488e-8ce3-202f13765bbd"
      },
      "source": [
        "plt.figure(figsize=(8,6))\n",
        "plt.bar(tahun2, cancel2)\n",
        "\n",
        "plt.title('Cancelation in Reservation of Resort Hotel', fontsize= 18)\n",
        "plt.xlabel('Tahun', fontsize= 12)\n",
        "plt.ylabel('Total Number', fontsize= 12)\n",
        "\n",
        "plt.xticks(ticks=x, labels=[2015, 2016, 2017])\n",
        "plt.tight_layout()\n",
        "plt.show()"
      ],
      "execution_count": 82,
      "outputs": [
        {
          "output_type": "display_data",
          "data": {
            "image/png": "[encoded data removed]",
            "text/plain": [
              "<Figure size 576x432 with 1 Axes>"
            ]
          },
          "metadata": {
            "tags": [],
            "needs_background": "light"
          }
        }
      ]
    },
    {
      "cell_type": "code",
      "metadata": {
        "colab": {
          "base_uri": "https://localhost:8080/"
        },
        "id": "ksrFdn9r8y15",
        "outputId": "9cab22f7-df60-44df-df08-f2e3835276e7"
      },
      "source": [
        "df['lead_time']= data['lead_time']"
      ],
      "execution_count": 83,
      "outputs": [
        {
          "output_type": "stream",
          "text": [
            "/usr/local/lib/python3.7/dist-packages/ipykernel_launcher.py:1: SettingWithCopyWarning: \n",
            "A value is trying to be set on a copy of a slice from a DataFrame.\n",
            "Try using .loc[row_indexer,col_indexer] = value instead\n",
            "\n",
            "See the caveats in the documentation: https://pandas.pydata.org/pandas-docs/stable/user_guide/indexing.html#returning-a-view-versus-a-copy\n",
            "  \"\"\"Entry point for launching an IPython kernel.\n"
          ],
          "name": "stderr"
        }
      ]
    },
    {
      "cell_type": "code",
      "metadata": {
        "id": "BozI18ivOcN3"
      },
      "source": [
        "data_group8= df[['hotel','lead_time']]"
      ],
      "execution_count": 84,
      "outputs": []
    },
    {
      "cell_type": "code",
      "metadata": {
        "id": "YmTgjsm3PIwg"
      },
      "source": [
        "data_2015 =df.loc[df[\"arrival_date_year\"] == 2015, ['hotel','deposit_type','arrival_date_month','days_in_waiting_list', 'reserved_room_type', 'customer_type']]\n",
        "data_2016 =df.loc[df[\"arrival_date_year\"] == 2016, ['hotel','deposit_type','arrival_date_month','days_in_waiting_list', 'reserved_room_type','customer_type']]\n",
        "data_2017 =df.loc[df[\"arrival_date_year\"] == 2017, ['hotel','deposit_type','arrival_date_month','days_in_waiting_list', 'reserved_room_type','customer_type']]"
      ],
      "execution_count": 85,
      "outputs": []
    },
    {
      "cell_type": "code",
      "metadata": {
        "id": "UuQR4jTLbVQi"
      },
      "source": [
        "hotel_2015 =data_2015[['hotel','arrival_date_month']].groupby('arrival_date_month').count()\n",
        "hotel_2016 =data_2016[['hotel','arrival_date_month']].groupby('arrival_date_month').count()\n",
        "hotel_2017 =data_2017[['hotel','arrival_date_month']].groupby('arrival_date_month').count()\n"
      ],
      "execution_count": 86,
      "outputs": []
    },
    {
      "cell_type": "code",
      "metadata": {
        "colab": {
          "base_uri": "https://localhost:8080/",
          "height": 220
        },
        "id": "4N4equ82b4Kh",
        "outputId": "d955d784-520b-495f-b155-5863bfa0653e"
      },
      "source": [
        "hotel_2015['bulan']= list(hotel_2015.index)\n",
        "hotel_2015= hotel_2015[['bulan','hotel']]\n",
        "hotel_2015.reset_index(drop=True,inplace=True)\n",
        "hotel_2015.sort_values(by=['hotel'], inplace=True, ascending=False)\n",
        "hotel_2015"
      ],
      "execution_count": 87,
      "outputs": [
        {
          "output_type": "execute_result",
          "data": {
            "text/html": [
              "<div>\n",
              "<style scoped>\n",
              "    .dataframe tbody tr th:only-of-type {\n",
              "        vertical-align: middle;\n",
              "    }\n",
              "\n",
              "    .dataframe tbody tr th {\n",
              "        vertical-align: top;\n",
              "    }\n",
              "\n",
              "    .dataframe thead th {\n",
              "        text-align: right;\n",
              "    }\n",
              "</style>\n",
              "<table border=\"1\" class=\"dataframe\">\n",
              "  <thead>\n",
              "    <tr style=\"text-align: right;\">\n",
              "      <th></th>\n",
              "      <th>bulan</th>\n",
              "      <th>hotel</th>\n",
              "    </tr>\n",
              "  </thead>\n",
              "  <tbody>\n",
              "    <tr>\n",
              "      <th>5</th>\n",
              "      <td>September</td>\n",
              "      <td>5114</td>\n",
              "    </tr>\n",
              "    <tr>\n",
              "      <th>4</th>\n",
              "      <td>October</td>\n",
              "      <td>4957</td>\n",
              "    </tr>\n",
              "    <tr>\n",
              "      <th>0</th>\n",
              "      <td>August</td>\n",
              "      <td>3889</td>\n",
              "    </tr>\n",
              "    <tr>\n",
              "      <th>1</th>\n",
              "      <td>December</td>\n",
              "      <td>2920</td>\n",
              "    </tr>\n",
              "    <tr>\n",
              "      <th>2</th>\n",
              "      <td>July</td>\n",
              "      <td>2776</td>\n",
              "    </tr>\n",
              "    <tr>\n",
              "      <th>3</th>\n",
              "      <td>November</td>\n",
              "      <td>2340</td>\n",
              "    </tr>\n",
              "  </tbody>\n",
              "</table>\n",
              "</div>"
            ],
            "text/plain": [
              "       bulan  hotel\n",
              "5  September   5114\n",
              "4    October   4957\n",
              "0     August   3889\n",
              "1   December   2920\n",
              "2       July   2776\n",
              "3   November   2340"
            ]
          },
          "metadata": {
            "tags": []
          },
          "execution_count": 87
        }
      ]
    },
    {
      "cell_type": "code",
      "metadata": {
        "colab": {
          "base_uri": "https://localhost:8080/",
          "height": 585
        },
        "id": "VEfPDl_EdwvX",
        "outputId": "d9dc8ae8-f239-44bd-8250-93992762f9fd"
      },
      "source": [
        "x= np.arange(len(hotel_2015['bulan']))\n",
        "y= hotel_2015['hotel']\n",
        "\n",
        "plt.figure(figsize=(10,8))\n",
        "plt.bar(x,y)\n",
        "plt.title('2015', fontsize= 20)\n",
        "plt.xlabel('Bulan', fontsize= 14)\n",
        "plt.ylabel('Kunjungan', fontsize= 18)\n",
        "\n",
        "plt.xticks(ticks=x, labels=hotel_2015['bulan'])\n",
        "\n",
        "plt.tight_layout()\n",
        "plt.show()\n",
        "fig.savefig('fig8.png')\n"
      ],
      "execution_count": 88,
      "outputs": [
        {
          "output_type": "display_data",
          "data": {
            "image/png": "[encoded data removed]",
            "text/plain": [
              "<Figure size 720x576 with 1 Axes>"
            ]
          },
          "metadata": {
            "tags": [],
            "needs_background": "light"
          }
        }
      ]
    },
    {
      "cell_type": "code",
      "metadata": {
        "colab": {
          "base_uri": "https://localhost:8080/",
          "height": 392
        },
        "id": "yZDVxSTnctCc",
        "outputId": "5223f169-b5da-4f8a-d869-4d4a4e41fe8e"
      },
      "source": [
        "hotel_2016['bulan']= list(hotel_2016.index)\n",
        "hotel_2016= hotel_2016[['bulan','hotel']]\n",
        "hotel_2016.reset_index(drop=True,inplace=True)\n",
        "hotel_2016.sort_values(by=['hotel'], inplace=True, ascending=False)\n",
        "hotel_2016"
      ],
      "execution_count": 89,
      "outputs": [
        {
          "output_type": "execute_result",
          "data": {
            "text/html": [
              "<div>\n",
              "<style scoped>\n",
              "    .dataframe tbody tr th:only-of-type {\n",
              "        vertical-align: middle;\n",
              "    }\n",
              "\n",
              "    .dataframe tbody tr th {\n",
              "        vertical-align: top;\n",
              "    }\n",
              "\n",
              "    .dataframe thead th {\n",
              "        text-align: right;\n",
              "    }\n",
              "</style>\n",
              "<table border=\"1\" class=\"dataframe\">\n",
              "  <thead>\n",
              "    <tr style=\"text-align: right;\">\n",
              "      <th></th>\n",
              "      <th>bulan</th>\n",
              "      <th>hotel</th>\n",
              "    </tr>\n",
              "  </thead>\n",
              "  <tbody>\n",
              "    <tr>\n",
              "      <th>10</th>\n",
              "      <td>October</td>\n",
              "      <td>6203</td>\n",
              "    </tr>\n",
              "    <tr>\n",
              "      <th>8</th>\n",
              "      <td>May</td>\n",
              "      <td>5478</td>\n",
              "    </tr>\n",
              "    <tr>\n",
              "      <th>0</th>\n",
              "      <td>April</td>\n",
              "      <td>5428</td>\n",
              "    </tr>\n",
              "    <tr>\n",
              "      <th>11</th>\n",
              "      <td>September</td>\n",
              "      <td>5394</td>\n",
              "    </tr>\n",
              "    <tr>\n",
              "      <th>6</th>\n",
              "      <td>June</td>\n",
              "      <td>5292</td>\n",
              "    </tr>\n",
              "    <tr>\n",
              "      <th>1</th>\n",
              "      <td>August</td>\n",
              "      <td>5063</td>\n",
              "    </tr>\n",
              "    <tr>\n",
              "      <th>7</th>\n",
              "      <td>March</td>\n",
              "      <td>4824</td>\n",
              "    </tr>\n",
              "    <tr>\n",
              "      <th>5</th>\n",
              "      <td>July</td>\n",
              "      <td>4572</td>\n",
              "    </tr>\n",
              "    <tr>\n",
              "      <th>9</th>\n",
              "      <td>November</td>\n",
              "      <td>4454</td>\n",
              "    </tr>\n",
              "    <tr>\n",
              "      <th>3</th>\n",
              "      <td>February</td>\n",
              "      <td>3891</td>\n",
              "    </tr>\n",
              "    <tr>\n",
              "      <th>2</th>\n",
              "      <td>December</td>\n",
              "      <td>3860</td>\n",
              "    </tr>\n",
              "    <tr>\n",
              "      <th>4</th>\n",
              "      <td>January</td>\n",
              "      <td>2248</td>\n",
              "    </tr>\n",
              "  </tbody>\n",
              "</table>\n",
              "</div>"
            ],
            "text/plain": [
              "        bulan  hotel\n",
              "10    October   6203\n",
              "8         May   5478\n",
              "0       April   5428\n",
              "11  September   5394\n",
              "6        June   5292\n",
              "1      August   5063\n",
              "7       March   4824\n",
              "5        July   4572\n",
              "9    November   4454\n",
              "3    February   3891\n",
              "2    December   3860\n",
              "4     January   2248"
            ]
          },
          "metadata": {
            "tags": []
          },
          "execution_count": 89
        }
      ]
    },
    {
      "cell_type": "code",
      "metadata": {
        "colab": {
          "base_uri": "https://localhost:8080/",
          "height": 585
        },
        "id": "2Db4p0jNfbZE",
        "outputId": "fcc682e2-3093-4116-ce4a-0e75a9cd7bdb"
      },
      "source": [
        "x= np.arange(len(hotel_2016['bulan']))\n",
        "y= hotel_2016['hotel']\n",
        "\n",
        "plt.figure(figsize=(10,8))\n",
        "plt.bar(x,y)\n",
        "plt.title('2016', fontsize= 20)\n",
        "plt.xlabel('Bulan', fontsize= 14)\n",
        "plt.ylabel('Kunjungan', fontsize= 18)\n",
        "\n",
        "plt.xticks(ticks=x, labels=hotel_2016['bulan'])\n",
        "\n",
        "plt.tight_layout()\n",
        "plt.show()\n",
        "fig.savefig('fig9.png')"
      ],
      "execution_count": 90,
      "outputs": [
        {
          "output_type": "display_data",
          "data": {
            "image/png": "[encoded data removed]",
            "text/plain": [
              "<Figure size 720x576 with 1 Axes>"
            ]
          },
          "metadata": {
            "tags": [],
            "needs_background": "light"
          }
        }
      ]
    },
    {
      "cell_type": "code",
      "metadata": {
        "colab": {
          "base_uri": "https://localhost:8080/",
          "height": 277
        },
        "id": "_Rs36W3gfr0Z",
        "outputId": "769f077c-5569-4deb-fe5b-6f4dad095c9e"
      },
      "source": [
        "hotel_2017['bulan']= list(hotel_2017.index)\n",
        "hotel_2017= hotel_2017[['bulan','hotel']]\n",
        "hotel_2017.reset_index(drop=True,inplace=True)\n",
        "hotel_2017.sort_values(by=['hotel'], inplace=True, ascending=False)\n",
        "hotel_2017"
      ],
      "execution_count": 91,
      "outputs": [
        {
          "output_type": "execute_result",
          "data": {
            "text/html": [
              "<div>\n",
              "<style scoped>\n",
              "    .dataframe tbody tr th:only-of-type {\n",
              "        vertical-align: middle;\n",
              "    }\n",
              "\n",
              "    .dataframe tbody tr th {\n",
              "        vertical-align: top;\n",
              "    }\n",
              "\n",
              "    .dataframe thead th {\n",
              "        text-align: right;\n",
              "    }\n",
              "</style>\n",
              "<table border=\"1\" class=\"dataframe\">\n",
              "  <thead>\n",
              "    <tr style=\"text-align: right;\">\n",
              "      <th></th>\n",
              "      <th>bulan</th>\n",
              "      <th>hotel</th>\n",
              "    </tr>\n",
              "  </thead>\n",
              "  <tbody>\n",
              "    <tr>\n",
              "      <th>7</th>\n",
              "      <td>May</td>\n",
              "      <td>6313</td>\n",
              "    </tr>\n",
              "    <tr>\n",
              "      <th>0</th>\n",
              "      <td>April</td>\n",
              "      <td>5661</td>\n",
              "    </tr>\n",
              "    <tr>\n",
              "      <th>5</th>\n",
              "      <td>June</td>\n",
              "      <td>5647</td>\n",
              "    </tr>\n",
              "    <tr>\n",
              "      <th>4</th>\n",
              "      <td>July</td>\n",
              "      <td>5313</td>\n",
              "    </tr>\n",
              "    <tr>\n",
              "      <th>6</th>\n",
              "      <td>March</td>\n",
              "      <td>4970</td>\n",
              "    </tr>\n",
              "    <tr>\n",
              "      <th>1</th>\n",
              "      <td>August</td>\n",
              "      <td>4925</td>\n",
              "    </tr>\n",
              "    <tr>\n",
              "      <th>2</th>\n",
              "      <td>February</td>\n",
              "      <td>4177</td>\n",
              "    </tr>\n",
              "    <tr>\n",
              "      <th>3</th>\n",
              "      <td>January</td>\n",
              "      <td>3681</td>\n",
              "    </tr>\n",
              "  </tbody>\n",
              "</table>\n",
              "</div>"
            ],
            "text/plain": [
              "      bulan  hotel\n",
              "7       May   6313\n",
              "0     April   5661\n",
              "5      June   5647\n",
              "4      July   5313\n",
              "6     March   4970\n",
              "1    August   4925\n",
              "2  February   4177\n",
              "3   January   3681"
            ]
          },
          "metadata": {
            "tags": []
          },
          "execution_count": 91
        }
      ]
    },
    {
      "cell_type": "code",
      "metadata": {
        "colab": {
          "base_uri": "https://localhost:8080/",
          "height": 585
        },
        "id": "nEVb_QLjf2Cf",
        "outputId": "575c73bf-cccc-4fc4-e165-d5f00728856c"
      },
      "source": [
        "x= np.arange(len(hotel_2017['bulan']))\n",
        "y= hotel_2017['hotel']\n",
        "\n",
        "plt.figure(figsize=(10,8))\n",
        "plt.bar(x,y)\n",
        "plt.title('2017', fontsize= 20)\n",
        "plt.xlabel('Bulan', fontsize= 14)\n",
        "plt.ylabel('Kunjungan', fontsize= 18)\n",
        "\n",
        "plt.xticks(ticks=x, labels=hotel_2017['bulan'])\n",
        "\n",
        "plt.tight_layout()\n",
        "plt.show()\n",
        "fig.savefig('fig10.png')\n"
      ],
      "execution_count": 92,
      "outputs": [
        {
          "output_type": "display_data",
          "data": {
            "image/png": "[encoded data removed]",
            "text/plain": [
              "<Figure size 720x576 with 1 Axes>"
            ]
          },
          "metadata": {
            "tags": [],
            "needs_background": "light"
          }
        }
      ]
    },
    {
      "cell_type": "code",
      "metadata": {
        "id": "OTRM7LdcyxOP"
      },
      "source": [
        ""
      ],
      "execution_count": 92,
      "outputs": []
    }
  ]
}